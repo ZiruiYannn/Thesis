{
 "cells": [
  {
   "cell_type": "code",
   "execution_count": 1,
   "id": "39af4fc3-5fe3-4285-bdd0-0793a46e9131",
   "metadata": {},
   "outputs": [
    {
     "data": {
      "text/plain": [
       "[(14,)]"
      ]
     },
     "execution_count": 1,
     "metadata": {},
     "output_type": "execute_result"
    }
   ],
   "source": [
    "var('z')\n",
    "solve_mod([z^2 == 1, 4*z  == 11], 15)"
   ]
  },
  {
   "cell_type": "code",
   "execution_count": 2,
   "id": "f7cb5ca1-dfcf-4e48-9012-29c82b251bca",
   "metadata": {},
   "outputs": [],
   "source": [
    "from sage.structure.unique_representation import UniqueRepresentation\n",
    "class MyFrac(UniqueRepresentation, Field):\n",
    "    def __init__(self, base):\n",
    "        if base not in IntegralDomains():\n",
    "            raise ValueError(\"%s is no integral domain\" % base)\n",
    "        Field.__init__(self, base)\n",
    "    def _repr_(self):\n",
    "        return \"NewFrac(%s)\"%repr(self.base())\n",
    "    def base_ring(self):\n",
    "        return self.base().base_ring()\n",
    "    def characteristic(self):\n",
    "        return self.base().characteristic()"
   ]
  },
  {
   "cell_type": "code",
   "execution_count": 3,
   "id": "ad610d0b-6f35-4598-b01c-2a11244d5c16",
   "metadata": {},
   "outputs": [],
   "source": [
    "FF=MyFrac(ZZ['x'])"
   ]
  },
  {
   "cell_type": "code",
   "execution_count": 4,
   "id": "021d0f77-4c9c-4913-8334-076a7aec0698",
   "metadata": {},
   "outputs": [
    {
     "data": {
      "text/plain": [
       "NewFrac(Univariate Polynomial Ring in x over Integer Ring)"
      ]
     },
     "execution_count": 4,
     "metadata": {},
     "output_type": "execute_result"
    }
   ],
   "source": [
    "FF"
   ]
  },
  {
   "cell_type": "code",
   "execution_count": 5,
   "id": "87a0c38b-916a-4540-b536-e7c011a7b1ad",
   "metadata": {},
   "outputs": [
    {
     "data": {
      "text/plain": [
       "Integer Ring"
      ]
     },
     "execution_count": 5,
     "metadata": {},
     "output_type": "execute_result"
    }
   ],
   "source": [
    "FF.base_ring()"
   ]
  },
  {
   "cell_type": "code",
   "execution_count": 6,
   "id": "d401f033-6da6-4db2-8352-884ae7ac9ece",
   "metadata": {},
   "outputs": [
    {
     "data": {
      "text/plain": [
       "Integer Ring"
      ]
     },
     "execution_count": 6,
     "metadata": {},
     "output_type": "execute_result"
    }
   ],
   "source": [
    "ZZ['x'].base()"
   ]
  },
  {
   "cell_type": "code",
   "execution_count": 7,
   "id": "b9baa89c-5f8e-4fba-b24c-a7cda482a4cf",
   "metadata": {},
   "outputs": [
    {
     "data": {
      "text/plain": [
       "Integer Ring"
      ]
     },
     "execution_count": 7,
     "metadata": {},
     "output_type": "execute_result"
    }
   ],
   "source": [
    "ZZ['x'].base_ring()"
   ]
  },
  {
   "cell_type": "code",
   "execution_count": 8,
   "id": "f5216739-3417-4882-b571-8640fb181e1d",
   "metadata": {},
   "outputs": [],
   "source": [
    "class MyElement(FieldElement):\n",
    "    def __init__(self, parent,n,d=None):\n",
    "        B = parent.base()\n",
    "        if d is None:\n",
    "            d = B.one()\n",
    "        if n not in B or d not in B:\n",
    "            raise ValueError(\"Numerator and denominator must be elements of %s\"%B)\n",
    "        # Numerator and denominator should not just be \"in\" B,\n",
    "        # but should be defined as elements of B\n",
    "        d = B(d)\n",
    "        n = B(n)\n",
    "        if d==0:\n",
    "            raise ZeroDivisionError(\"The denominator must not be zero\")\n",
    "        if d<0:\n",
    "            self.n = -n\n",
    "            self.d = -d\n",
    "        else:\n",
    "            self.n = n\n",
    "            self.d = d\n",
    "        FieldElement.__init__(self,parent)\n",
    "    def numerator(self):\n",
    "        return self.n\n",
    "    def denominator(self):\n",
    "        return self.d\n",
    "    def _repr_(self):\n",
    "        return \"%s/%s\"%(self.n,self.d)\n",
    "    def _richcmp_(self, other, op):\n",
    "        from sage.structure.richcmp import richcmp\n",
    "        return richcmp(self.n*other.denominator(), other.numerator()*self.d, op)\n",
    "    def _add_(self, other):\n",
    "        C = self.__class__\n",
    "        D = self.d*other.denominator()\n",
    "        return C(self.parent(), self.n*other.denominator()+self.d*other.numerator(), D)\n",
    "    def _sub_(self, other):\n",
    "        C = self.__class__\n",
    "        D = self.d*other.denominator()\n",
    "        return C(self.parent(), self.n*other.denominator()-self.d*other.numerator(),D)\n",
    "    def _mul_(self, other):\n",
    "        C = self.__class__\n",
    "        return C(self.parent(), self.n*other.numerator(), self.d*other.denominator())\n",
    "    def _div_(self, other):\n",
    "        C = self.__class__\n",
    "        return C(self.parent(), self.n*other.denominator(), self.d*other.numerator())"
   ]
  },
  {
   "cell_type": "code",
   "execution_count": 9,
   "id": "daf94400-1726-4dbd-9a73-0596c6d627d0",
   "metadata": {},
   "outputs": [],
   "source": [
    "P = MyFrac(ZZ)\n",
    "a = MyElement(P, 3, 4)\n",
    "b = MyElement(P, 1, 2)"
   ]
  },
  {
   "cell_type": "code",
   "execution_count": 10,
   "id": "5e08eb08-4bad-4c68-8900-42d7af62f57c",
   "metadata": {},
   "outputs": [
    {
     "data": {
      "text/plain": [
       "(10/8, 2/8, 3/8, 6/4)"
      ]
     },
     "execution_count": 10,
     "metadata": {},
     "output_type": "execute_result"
    }
   ],
   "source": [
    "a+b, a-b, a*b, a/b"
   ]
  },
  {
   "cell_type": "code",
   "execution_count": 11,
   "id": "8691f03f-2990-4864-a43c-5d2729e8848d",
   "metadata": {},
   "outputs": [
    {
     "data": {
      "text/plain": [
       "True"
      ]
     },
     "execution_count": 11,
     "metadata": {},
     "output_type": "execute_result"
    }
   ],
   "source": [
    "a-b == MyElement(P, 1, 4)"
   ]
  },
  {
   "cell_type": "code",
   "execution_count": 12,
   "id": "d5d34e43-24f5-4e98-ae70-e00f5029c85c",
   "metadata": {},
   "outputs": [],
   "source": [
    "class MyFrac(MyFrac):\n",
    "    Element = MyElement"
   ]
  },
  {
   "cell_type": "code",
   "execution_count": 13,
   "id": "1a9a2c6e-c24b-45d5-a660-ae65d94909f4",
   "metadata": {},
   "outputs": [
    {
     "data": {
      "text/plain": [
       "(1/1, 2/3)"
      ]
     },
     "execution_count": 13,
     "metadata": {},
     "output_type": "execute_result"
    }
   ],
   "source": [
    "P = MyFrac(ZZ)\n",
    "P(1), P(2,3)"
   ]
  },
  {
   "cell_type": "code",
   "execution_count": 14,
   "id": "6fc3440c-4c88-4eab-b454-53ccda1bce8d",
   "metadata": {},
   "outputs": [
    {
     "data": {
      "text/plain": [
       "0/1"
      ]
     },
     "execution_count": 14,
     "metadata": {},
     "output_type": "execute_result"
    }
   ],
   "source": [
    "P.zero()"
   ]
  },
  {
   "cell_type": "code",
   "execution_count": 15,
   "id": "16e9bbe2-1b46-44a9-902c-2ab1d5341f7a",
   "metadata": {},
   "outputs": [
    {
     "data": {
      "text/plain": [
       "<sage.schemes.elliptic_curves.constructor.EllipticCurveFactory object at 0x7f51f1f26d00>"
      ]
     },
     "execution_count": 15,
     "metadata": {},
     "output_type": "execute_result"
    }
   ],
   "source": []
  },
  {
   "cell_type": "code",
   "execution_count": 17,
   "id": "cfad3560-4460-49ff-ad95-3f3a0e8ad62a",
   "metadata": {},
   "outputs": [
    {
     "ename": "TypeError",
     "evalue": "invalid input to EllipticCurve constructor",
     "output_type": "error",
     "traceback": [
      "\u001b[0;31m---------------------------------------------------------------------------\u001b[0m",
      "\u001b[0;31mTypeError\u001b[0m                                 Traceback (most recent call last)",
      "Cell \u001b[0;32mIn[17], line 1\u001b[0m\n\u001b[0;32m----> 1\u001b[0m \u001b[43mEllipticCurve\u001b[49m\u001b[43m(\u001b[49m\u001b[43m)\u001b[49m\n",
      "File \u001b[0;32m/usr/lib/python3.11/site-packages/sage/structure/factory.pyx:369\u001b[0m, in \u001b[0;36msage.structure.factory.UniqueFactory.__call__ (build/cythonized/sage/structure/factory.c:2335)\u001b[0;34m()\u001b[0m\n\u001b[1;32m    367\u001b[0m     False\n\u001b[1;32m    368\u001b[0m \"\"\"\n\u001b[0;32m--> 369\u001b[0m key, kwds = self.create_key_and_extra_args(*args, **kwds)\n\u001b[1;32m    370\u001b[0m version = self.get_version(sage_version)\n\u001b[1;32m    371\u001b[0m return self.get_object(version, key, kwds)\n",
      "File \u001b[0;32m/usr/lib/python3.11/site-packages/sage/schemes/elliptic_curves/constructor.py:444\u001b[0m, in \u001b[0;36mEllipticCurveFactory.create_key_and_extra_args\u001b[0;34m(self, x, y, j, minimal_twist, **kwds)\u001b[0m\n\u001b[1;32m    441\u001b[0m     kwds \u001b[38;5;241m=\u001b[39m data\n\u001b[1;32m    443\u001b[0m \u001b[38;5;28;01mif\u001b[39;00m \u001b[38;5;129;01mnot\u001b[39;00m \u001b[38;5;28misinstance\u001b[39m(x, (\u001b[38;5;28mlist\u001b[39m, \u001b[38;5;28mtuple\u001b[39m)):\n\u001b[0;32m--> 444\u001b[0m     \u001b[38;5;28;01mraise\u001b[39;00m \u001b[38;5;167;01mTypeError\u001b[39;00m(\u001b[38;5;124m\"\u001b[39m\u001b[38;5;124minvalid input to EllipticCurve constructor\u001b[39m\u001b[38;5;124m\"\u001b[39m)\n\u001b[1;32m    446\u001b[0m \u001b[38;5;28;01mif\u001b[39;00m \u001b[38;5;28mlen\u001b[39m(x) \u001b[38;5;241m==\u001b[39m \u001b[38;5;241m2\u001b[39m:\n\u001b[1;32m    447\u001b[0m     x \u001b[38;5;241m=\u001b[39m (\u001b[38;5;241m0\u001b[39m, \u001b[38;5;241m0\u001b[39m, \u001b[38;5;241m0\u001b[39m, x[\u001b[38;5;241m0\u001b[39m], x[\u001b[38;5;241m1\u001b[39m])\n",
      "\u001b[0;31mTypeError\u001b[0m: invalid input to EllipticCurve constructor"
     ]
    }
   ],
   "source": [
    "EllipticCurve()"
   ]
  }
 ],
 "metadata": {
  "kernelspec": {
   "display_name": "SageMath 10.1",
   "language": "sage",
   "name": "sagemath"
  },
  "language_info": {
   "codemirror_mode": {
    "name": "ipython",
    "version": 3
   },
   "file_extension": ".py",
   "mimetype": "text/x-python",
   "name": "python",
   "nbconvert_exporter": "python",
   "pygments_lexer": "ipython3",
   "version": "3.11.6"
  }
 },
 "nbformat": 4,
 "nbformat_minor": 5
}
