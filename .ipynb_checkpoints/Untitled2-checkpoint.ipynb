{
 "cells": [
  {
   "cell_type": "code",
   "execution_count": 47,
   "id": "b47318fc-bafc-4241-997f-a75ad1a677bf",
   "metadata": {},
   "outputs": [],
   "source": [
    "a=0\n",
    "b=1"
   ]
  },
  {
   "cell_type": "code",
   "execution_count": 8,
   "id": "45cd825d-559a-492b-a290-608deb46c6cc",
   "metadata": {},
   "outputs": [
    {
     "data": {
      "text/plain": [
       "Multivariate Polynomial Ring in x, y, z over Finite Field of size 5"
      ]
     },
     "execution_count": 8,
     "metadata": {},
     "output_type": "execute_result"
    }
   ],
   "source": [
    "P2.<x,y,z> = ProjectiveSpace(2, GF(5))\n",
    "P2\n",
    "P2.coordinate_ring()"
   ]
  },
  {
   "cell_type": "code",
   "execution_count": 3,
   "id": "3da17c5f-da8b-478c-a732-fb78cf9bc129",
   "metadata": {},
   "outputs": [
    {
     "data": {
      "text/plain": [
       "(0 : 1 : 0)"
      ]
     },
     "execution_count": 3,
     "metadata": {},
     "output_type": "execute_result"
    }
   ],
   "source": [
    "P2(0,1,0)"
   ]
  },
  {
   "cell_type": "code",
   "execution_count": 9,
   "id": "e432e463-0864-4245-94fc-c8c3c22a1f2c",
   "metadata": {
    "scrolled": true
   },
   "outputs": [
    {
     "data": {
      "text/plain": [
       "[(0 : 0 : 1),\n",
       " (0 : 1 : 1),\n",
       " (0 : 2 : 1),\n",
       " (0 : 3 : 1),\n",
       " (0 : 4 : 1),\n",
       " (1 : 0 : 1),\n",
       " (1 : 1 : 1),\n",
       " (1 : 2 : 1),\n",
       " (1 : 3 : 1),\n",
       " (1 : 4 : 1),\n",
       " (2 : 0 : 1),\n",
       " (2 : 1 : 1),\n",
       " (2 : 2 : 1),\n",
       " (2 : 3 : 1),\n",
       " (2 : 4 : 1),\n",
       " (3 : 0 : 1),\n",
       " (3 : 1 : 1),\n",
       " (3 : 2 : 1),\n",
       " (3 : 3 : 1),\n",
       " (3 : 4 : 1),\n",
       " (4 : 0 : 1),\n",
       " (4 : 1 : 1),\n",
       " (4 : 2 : 1),\n",
       " (4 : 3 : 1),\n",
       " (4 : 4 : 1),\n",
       " (0 : 1 : 0),\n",
       " (1 : 1 : 0),\n",
       " (2 : 1 : 0),\n",
       " (3 : 1 : 0),\n",
       " (4 : 1 : 0),\n",
       " (1 : 0 : 0)]"
      ]
     },
     "execution_count": 9,
     "metadata": {},
     "output_type": "execute_result"
    }
   ],
   "source": [
    "P2.rational_points()"
   ]
  },
  {
   "cell_type": "code",
   "execution_count": 10,
   "id": "91b875a3-587b-4d7b-9eef-b00c82f7a7ab",
   "metadata": {},
   "outputs": [],
   "source": [
    "Z25 = Zmod(25)"
   ]
  },
  {
   "cell_type": "code",
   "execution_count": 11,
   "id": "bb8361a5-b4f5-47d3-961a-1bb002c3a8fc",
   "metadata": {},
   "outputs": [
    {
     "data": {
      "text/plain": [
       "Ring of integers modulo 25"
      ]
     },
     "execution_count": 11,
     "metadata": {},
     "output_type": "execute_result"
    }
   ],
   "source": [
    "Z25"
   ]
  },
  {
   "cell_type": "code",
   "execution_count": 13,
   "id": "7a2cf33e-5ab7-4b63-804b-db7d9e63d108",
   "metadata": {},
   "outputs": [],
   "source": [
    "ideal5 = Z25.ideal(5)"
   ]
  },
  {
   "cell_type": "code",
   "execution_count": 55,
   "id": "5eb757ab-1a87-4176-9680-d416dd2b23d7",
   "metadata": {},
   "outputs": [
    {
     "data": {
      "text/plain": [
       "Principal ideal (5) of Ring of integers modulo 25"
      ]
     },
     "execution_count": 55,
     "metadata": {},
     "output_type": "execute_result"
    }
   ],
   "source": [
    "ideal5"
   ]
  },
  {
   "cell_type": "code",
   "execution_count": 60,
   "id": "08c527bb-f9d5-46ac-bedd-f3cfb399a619",
   "metadata": {},
   "outputs": [
    {
     "data": {
      "text/plain": [
       "True"
      ]
     },
     "execution_count": 60,
     "metadata": {},
     "output_type": "execute_result"
    }
   ],
   "source": [
    "5 in ideal5"
   ]
  },
  {
   "cell_type": "code",
   "execution_count": 59,
   "id": "d5f5fff6-6472-41eb-8fc9-7790c1a4395a",
   "metadata": {},
   "outputs": [
    {
     "data": {
      "text/plain": [
       "[Principal ideal (5) of Ring of integers modulo 25]"
      ]
     },
     "execution_count": 59,
     "metadata": {},
     "output_type": "execute_result"
    }
   ],
   "source": [
    "m"
   ]
  },
  {
   "cell_type": "code",
   "execution_count": 15,
   "id": "9e7baf45-4b10-41f2-9233-a061a8f1e25f",
   "metadata": {},
   "outputs": [
    {
     "data": {
      "text/plain": [
       "True"
      ]
     },
     "execution_count": 15,
     "metadata": {},
     "output_type": "execute_result"
    }
   ],
   "source": [
    "10 in ideal5"
   ]
  },
  {
   "cell_type": "code",
   "execution_count": 19,
   "id": "4a63f1a2-b321-4700-bdc8-10f46b781541",
   "metadata": {},
   "outputs": [
    {
     "data": {
      "text/plain": [
       "{1,\n",
       " 2,\n",
       " 3,\n",
       " 4,\n",
       " 5,\n",
       " 6,\n",
       " 7,\n",
       " 8,\n",
       " 9,\n",
       " 10,\n",
       " 11,\n",
       " 12,\n",
       " 13,\n",
       " 14,\n",
       " 15,\n",
       " 16,\n",
       " 17,\n",
       " 18,\n",
       " 19,\n",
       " 20,\n",
       " 21,\n",
       " 22,\n",
       " 23,\n",
       " 24}"
      ]
     },
     "execution_count": 19,
     "metadata": {},
     "output_type": "execute_result"
    }
   ],
   "source": [
    "{x for x in Z25 if x != 0}"
   ]
  },
  {
   "cell_type": "code",
   "execution_count": 20,
   "id": "3d6eea9e-fd55-4825-b163-f9c31e2f3eb9",
   "metadata": {},
   "outputs": [
    {
     "data": {
      "text/plain": [
       "[1, 1]"
      ]
     },
     "execution_count": 20,
     "metadata": {},
     "output_type": "execute_result"
    }
   ],
   "source": [
    "[1,1]"
   ]
  },
  {
   "cell_type": "code",
   "execution_count": 21,
   "id": "6104678d-3eaa-432d-b50d-7e700f514c23",
   "metadata": {},
   "outputs": [
    {
     "data": {
      "text/plain": [
       "{1}"
      ]
     },
     "execution_count": 21,
     "metadata": {},
     "output_type": "execute_result"
    }
   ],
   "source": [
    "{1,1}"
   ]
  },
  {
   "cell_type": "code",
   "execution_count": 52,
   "id": "da6958e4-5b3a-4b13-8a4f-b80af8eb5eef",
   "metadata": {},
   "outputs": [],
   "source": [
    "Aff = {(x,y,1) for x in Z25 for y in Z25 if y^2 == x^3 + a*x +b}"
   ]
  },
  {
   "cell_type": "code",
   "execution_count": 53,
   "id": "a31b9e79-6ac5-431e-9dff-dbfe580318ed",
   "metadata": {},
   "outputs": [
    {
     "data": {
      "text/plain": [
       "{(0, 1, 1),\n",
       " (0, 24, 1),\n",
       " (2, 3, 1),\n",
       " (2, 22, 1),\n",
       " (5, 1, 1),\n",
       " (5, 24, 1),\n",
       " (7, 12, 1),\n",
       " (7, 13, 1),\n",
       " (10, 1, 1),\n",
       " (10, 24, 1),\n",
       " (12, 2, 1),\n",
       " (12, 23, 1),\n",
       " (15, 1, 1),\n",
       " (15, 24, 1),\n",
       " (17, 8, 1),\n",
       " (17, 17, 1),\n",
       " (20, 1, 1),\n",
       " (20, 24, 1),\n",
       " (22, 7, 1),\n",
       " (22, 18, 1),\n",
       " (24, 0, 1),\n",
       " (24, 5, 1),\n",
       " (24, 10, 1),\n",
       " (24, 15, 1),\n",
       " (24, 20, 1)}"
      ]
     },
     "execution_count": 53,
     "metadata": {},
     "output_type": "execute_result"
    }
   ],
   "source": [
    "Aff"
   ]
  },
  {
   "cell_type": "code",
   "execution_count": 64,
   "id": "5863c64b-651c-47f0-89ea-f1f388997d42",
   "metadata": {},
   "outputs": [],
   "source": [
    "m = [x for x in Z25 if x in ideal5]"
   ]
  },
  {
   "cell_type": "code",
   "execution_count": 65,
   "id": "d01bf3d2-7694-43fc-8d5f-cea557741d1f",
   "metadata": {},
   "outputs": [],
   "source": [
    "Inf = {(x,1,z) for x in m for z in m if z == x^3 + a*x*z^2 + b*z^3}"
   ]
  },
  {
   "cell_type": "code",
   "execution_count": 66,
   "id": "351434fc-acd3-4a61-8fd8-a79a559ba43f",
   "metadata": {},
   "outputs": [
    {
     "data": {
      "text/plain": [
       "{(0, 1, 0), (5, 1, 0), (10, 1, 0), (15, 1, 0), (20, 1, 0)}"
      ]
     },
     "execution_count": 66,
     "metadata": {},
     "output_type": "execute_result"
    }
   ],
   "source": [
    "Inf"
   ]
  },
  {
   "cell_type": "code",
   "execution_count": 61,
   "id": "d34e172e-a144-4dd0-aaee-f921ccac3a32",
   "metadata": {},
   "outputs": [
    {
     "data": {
      "text/plain": [
       "Principal ideal (5) of Integer Ring"
      ]
     },
     "execution_count": 61,
     "metadata": {},
     "output_type": "execute_result"
    }
   ],
   "source": [
    "ZZ.ideal(5)"
   ]
  },
  {
   "cell_type": "code",
   "execution_count": 70,
   "id": "b9a20c32-b81f-4716-8c23-53b87c442071",
   "metadata": {},
   "outputs": [],
   "source": [
    "E = Aff.union(Inf)"
   ]
  },
  {
   "cell_type": "code",
   "execution_count": 71,
   "id": "e0c11139-1cfd-43ac-8c92-f7b79088d336",
   "metadata": {},
   "outputs": [
    {
     "data": {
      "text/plain": [
       "30"
      ]
     },
     "execution_count": 71,
     "metadata": {},
     "output_type": "execute_result"
    }
   ],
   "source": [
    "len(E)"
   ]
  },
  {
   "cell_type": "code",
   "execution_count": 72,
   "id": "5bd0d399-ab5f-4091-a92d-c8cac8276a77",
   "metadata": {},
   "outputs": [],
   "source": [
    "EC=EllipticCurve(GF(5),[a,b])"
   ]
  },
  {
   "cell_type": "code",
   "execution_count": 74,
   "id": "2d2174db-117b-4352-b80d-b17df74b3a76",
   "metadata": {},
   "outputs": [
    {
     "data": {
      "text/plain": [
       "6"
      ]
     },
     "execution_count": 74,
     "metadata": {},
     "output_type": "execute_result"
    }
   ],
   "source": [
    "len(EC.points())"
   ]
  },
  {
   "cell_type": "code",
   "execution_count": null,
   "id": "5066a49d-9bca-4deb-b99f-33a54d33911d",
   "metadata": {},
   "outputs": [],
   "source": []
  }
 ],
 "metadata": {
  "kernelspec": {
   "display_name": "SageMath 10.1",
   "language": "sage",
   "name": "sagemath"
  },
  "language_info": {
   "codemirror_mode": {
    "name": "ipython",
    "version": 3
   },
   "file_extension": ".py",
   "mimetype": "text/x-python",
   "name": "python",
   "nbconvert_exporter": "python",
   "pygments_lexer": "ipython3",
   "version": "3.11.6"
  }
 },
 "nbformat": 4,
 "nbformat_minor": 5
}
