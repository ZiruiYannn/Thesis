{
 "cells": [
  {
   "cell_type": "code",
   "execution_count": 1,
   "id": "4da4fe12-4b3e-4167-89ba-a803e2531339",
   "metadata": {},
   "outputs": [],
   "source": [
    "#https://doc.sagemath.org/html/en/reference/structure/sage/structure/factory.html"
   ]
  },
  {
   "cell_type": "code",
   "execution_count": null,
   "id": "db40d1fa-40d9-4b87-8d4b-6349c63b5b2f",
   "metadata": {},
   "outputs": [],
   "source": []
  },
  {
   "cell_type": "code",
   "execution_count": 5,
   "id": "404f86c5-4c7d-4181-90bc-2266d13a6ea2",
   "metadata": {},
   "outputs": [
    {
     "data": {
      "text/plain": [
       "<class 'sage.rings.integer.Integer'>"
      ]
     },
     "execution_count": 5,
     "metadata": {},
     "output_type": "execute_result"
    }
   ],
   "source": [
    "type(8)"
   ]
  },
  {
   "cell_type": "code",
   "execution_count": 6,
   "id": "94609fb6-29f0-4f30-8ec7-0e20090616f7",
   "metadata": {},
   "outputs": [],
   "source": [
    "Z15 = Zmod(15)"
   ]
  },
  {
   "cell_type": "code",
   "execution_count": 10,
   "id": "14cb8c97-54f7-4280-93ed-3c10c37b7b12",
   "metadata": {},
   "outputs": [
    {
     "data": {
      "text/plain": [
       "<class 'sage.rings.finite_rings.integer_mod.IntegerMod_int'>"
      ]
     },
     "execution_count": 10,
     "metadata": {},
     "output_type": "execute_result"
    }
   ],
   "source": [
    "type(Z15(8))"
   ]
  },
  {
   "cell_type": "code",
   "execution_count": 29,
   "id": "70484100-2e4c-48ab-ab1d-c8ebd27f240a",
   "metadata": {},
   "outputs": [],
   "source": [
    "a=(5,1,6,6, 7)"
   ]
  },
  {
   "cell_type": "code",
   "execution_count": 31,
   "id": "aec32cc7-951f-427f-9b86-a888682efa9f",
   "metadata": {},
   "outputs": [
    {
     "data": {
      "text/plain": [
       "Integer Ring"
      ]
     },
     "execution_count": 31,
     "metadata": {},
     "output_type": "execute_result"
    }
   ],
   "source": [
    "Sequence(a).universe()"
   ]
  },
  {
   "cell_type": "code",
   "execution_count": 34,
   "id": "494a8afe-1489-441c-9ed0-91d07426b36c",
   "metadata": {},
   "outputs": [],
   "source": [
    "from sage.categories.rings import Rings"
   ]
  },
  {
   "cell_type": "code",
   "execution_count": 35,
   "id": "c7e4a917-9c5b-4a74-ac44-96205b809070",
   "metadata": {},
   "outputs": [
    {
     "data": {
      "text/plain": [
       "Category of rings"
      ]
     },
     "execution_count": 35,
     "metadata": {},
     "output_type": "execute_result"
    }
   ],
   "source": [
    "Rings()"
   ]
  },
  {
   "cell_type": "code",
   "execution_count": null,
   "id": "40d6a270-5049-44fc-a9de-80c46dc894c6",
   "metadata": {},
   "outputs": [],
   "source": []
  }
 ],
 "metadata": {
  "kernelspec": {
   "display_name": "SageMath 10.1",
   "language": "sage",
   "name": "sagemath-dev"
  },
  "language_info": {
   "codemirror_mode": {
    "name": "ipython",
    "version": 3
   },
   "file_extension": ".py",
   "mimetype": "text/x-python",
   "name": "python",
   "nbconvert_exporter": "python",
   "pygments_lexer": "ipython3",
   "version": "3.11.8"
  }
 },
 "nbformat": 4,
 "nbformat_minor": 5
}
