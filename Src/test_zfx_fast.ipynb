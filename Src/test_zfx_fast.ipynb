{
 "cells": [
  {
   "cell_type": "code",
   "execution_count": 4,
   "id": "fea991f7-208b-4f20-9597-c3e2419c9366",
   "metadata": {},
   "outputs": [],
   "source": [
    "def read_and_execute(filename, R_zFx, n, ainvs):\n",
    "    # Open the file\n",
    "    with open(filename, 'r') as file:\n",
    "        # Read the first n lines\n",
    "        lines = [next(file) for _ in range(n)]\n",
    "    \n",
    "    # Execute the command\n",
    "    x = R_zFx.gen()\n",
    "    a1, a2, a3, a4, a6 = ainvs\n",
    "    return sage_eval(''.join(lines), locals={'X':x,'a1':a1,'a2':a2,'a3':a3,'a4':a4,'a6':a6})\n",
    "\n",
    "# Example usage\n",
    "ainvs=[1,2,3,4,2]\n",
    "R.<X> = PolynomialRing(RationalField())\n",
    "filename = \"zfx_stored.sage\"  # Replace 'your_file.py' with the name of your file\n",
    "n = 20  # Number of lines to read\n",
    "F = read_and_execute(filename, R, n, ainvs)"
   ]
  },
  {
   "cell_type": "code",
   "execution_count": 6,
   "id": "22611c01-e1e3-4e19-a204-a92032f5d1cb",
   "metadata": {},
   "outputs": [
    {
     "data": {
      "text/plain": [
       "X"
      ]
     },
     "execution_count": 6,
     "metadata": {},
     "output_type": "execute_result"
    }
   ],
   "source": [
    "X"
   ]
  },
  {
   "cell_type": "code",
   "execution_count": 19,
   "id": "74d771df-ff58-427a-9618-0631c0b8fa4e",
   "metadata": {},
   "outputs": [
    {
     "data": {
      "text/plain": [
       "30696628*X^19 - 9053208*X^18 + 2683073*X^17 - 799529*X^16 + 239744*X^15 - 72400*X^14 + 22046*X^13 - 6774*X^12 + 2108*X^11 - 664*X^10 + 213*X^9 - 69*X^8 + 24*X^7 - 8*X^6 + 3*X^5 - X^4 + X^3"
      ]
     },
     "execution_count": 19,
     "metadata": {},
     "output_type": "execute_result"
    }
   ],
   "source": [
    "F"
   ]
  },
  {
   "cell_type": "code",
   "execution_count": 45,
   "id": "35c7b7c9-27aa-41e2-bcc5-8b45c1fff021",
   "metadata": {},
   "outputs": [
    {
     "data": {
      "text/plain": [
       "-9627507856655*X^30 + 2838033788778*X^29 - 838161054169*X^28 + 248030012977*X^27 - 73555186056*X^26 + 21863986689*X^25 - 6515411201*X^24 + 1946894500*X^23 - 583483821*X^22 + 175448085*X^21 - 52948710*X^20 + 16041103*X^19 - 4881243*X^18 + 1493374*X^17 - 459269*X^16 + 142009*X^15 - 44324*X^14 + 13961*X^13 - 4409*X^12 + 1416*X^11 - 469*X^10 + 153*X^9 - 50*X^8 + 19*X^7 - 7*X^6 + 2*X^5 - X^4 + X^3"
      ]
     },
     "execution_count": 45,
     "metadata": {},
     "output_type": "execute_result"
    }
   ],
   "source": [
    "var('X')\n",
    "F"
   ]
  },
  {
   "cell_type": "code",
   "execution_count": 46,
   "id": "c3170106-151d-41e6-9cea-ed29049bc984",
   "metadata": {},
   "outputs": [],
   "source": [
    "QR = QuotientRing(R,X^5)"
   ]
  },
  {
   "cell_type": "code",
   "execution_count": 50,
   "id": "0d8d8329-fc2f-477f-b29f-b77302e1724b",
   "metadata": {},
   "outputs": [],
   "source": [
    "F2 = QR(F)"
   ]
  },
  {
   "cell_type": "code",
   "execution_count": 53,
   "id": "6aafe4d4-0759-43a4-9636-cb40db2ef8f4",
   "metadata": {},
   "outputs": [],
   "source": [
    "F3 = F2.lift()"
   ]
  },
  {
   "cell_type": "code",
   "execution_count": 55,
   "id": "f635f810-fc3d-4099-9a2c-a06aca415fd1",
   "metadata": {},
   "outputs": [
    {
     "data": {
      "text/plain": [
       "-8"
      ]
     },
     "execution_count": 55,
     "metadata": {},
     "output_type": "execute_result"
    }
   ],
   "source": [
    "F3(2)"
   ]
  },
  {
   "cell_type": "code",
   "execution_count": 58,
   "id": "986f4109-dbe2-4d2c-9dde-0e995d046dbb",
   "metadata": {},
   "outputs": [],
   "source": [
    "F4 = F"
   ]
  },
  {
   "cell_type": "code",
   "execution_count": 59,
   "id": "45c4ac5d-2c47-4d19-a8cb-b232eae5beb7",
   "metadata": {},
   "outputs": [
    {
     "data": {
      "text/plain": [
       "-9627507856655*X^30 + 2838033788778*X^29 - 838161054169*X^28 + 248030012977*X^27 - 73555186056*X^26 + 21863986689*X^25 - 6515411201*X^24 + 1946894500*X^23 - 583483821*X^22 + 175448085*X^21 - 52948710*X^20 + 16041103*X^19 - 4881243*X^18 + 1493374*X^17 - 459269*X^16 + 142009*X^15 - 44324*X^14 + 13961*X^13 - 4409*X^12 + 1416*X^11 - 469*X^10 + 153*X^9 - 50*X^8 + 19*X^7 - 7*X^6 + 2*X^5 - X^4 + X^3"
      ]
     },
     "execution_count": 59,
     "metadata": {},
     "output_type": "execute_result"
    }
   ],
   "source": [
    "F4"
   ]
  },
  {
   "cell_type": "code",
   "execution_count": 62,
   "id": "1010152a-fa62-4587-802c-d652ae241470",
   "metadata": {},
   "outputs": [],
   "source": [
    "F5 = F.truncate(20)"
   ]
  },
  {
   "cell_type": "code",
   "execution_count": 63,
   "id": "72be76d1-701f-42f1-ab13-2222c1a6a889",
   "metadata": {},
   "outputs": [
    {
     "data": {
      "text/plain": [
       "16041103*X^19 - 4881243*X^18 + 1493374*X^17 - 459269*X^16 + 142009*X^15 - 44324*X^14 + 13961*X^13 - 4409*X^12 + 1416*X^11 - 469*X^10 + 153*X^9 - 50*X^8 + 19*X^7 - 7*X^6 + 2*X^5 - X^4 + X^3"
      ]
     },
     "execution_count": 63,
     "metadata": {},
     "output_type": "execute_result"
    }
   ],
   "source": [
    "F5"
   ]
  },
  {
   "cell_type": "code",
   "execution_count": null,
   "id": "45fe619d-9526-48d0-a59e-95c7e9ac44af",
   "metadata": {},
   "outputs": [],
   "source": []
  }
 ],
 "metadata": {
  "kernelspec": {
   "display_name": "SageMath 10.1",
   "language": "sage",
   "name": "sagemath-dev"
  },
  "language_info": {
   "codemirror_mode": {
    "name": "ipython",
    "version": 3
   },
   "file_extension": ".py",
   "mimetype": "text/x-python",
   "name": "python",
   "nbconvert_exporter": "python",
   "pygments_lexer": "ipython3",
   "version": "3.11.8"
  }
 },
 "nbformat": 4,
 "nbformat_minor": 5
}
