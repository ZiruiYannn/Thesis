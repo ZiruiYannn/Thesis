{
 "cells": [
  {
   "cell_type": "code",
   "execution_count": 2,
   "id": "95949287-c2fe-4989-a12c-88719f4d8dfe",
   "metadata": {},
   "outputs": [
    {
     "data": {
      "text/plain": [
       "'\\nchanges:\\nconstructor.EllipticCurveFactory.\\n'"
      ]
     },
     "execution_count": 2,
     "metadata": {},
     "output_type": "execute_result"
    }
   ],
   "source": [
    "r'''\n",
    "constructor\n",
    "\n",
    "\n",
    "from sage.categories.rings import rings\n",
    "    _Rings = Rings()\n",
    "        \n",
    "EllipticCurveFactory\n",
    "    def create_object\n",
    "\n",
    "        elif R in _Rings:\n",
    "            from .ell_ring import EllipticCurve_ring\n",
    "            return EllipticCurve_ring(R, x)\n",
    "'''"
   ]
  },
  {
   "cell_type": "code",
   "execution_count": null,
   "id": "9a14bad3-974d-4fb2-90d3-fa677eca006f",
   "metadata": {},
   "outputs": [],
   "source": []
  }
 ],
 "metadata": {
  "kernelspec": {
   "display_name": "SageMath 10.1",
   "language": "sage",
   "name": "sagemath-dev"
  },
  "language_info": {
   "codemirror_mode": {
    "name": "ipython",
    "version": 3
   },
   "file_extension": ".py",
   "mimetype": "text/x-python",
   "name": "python",
   "nbconvert_exporter": "python",
   "pygments_lexer": "ipython3",
   "version": "3.11.8"
  }
 },
 "nbformat": 4,
 "nbformat_minor": 5
}
