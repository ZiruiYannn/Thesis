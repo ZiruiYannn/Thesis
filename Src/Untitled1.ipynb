{
 "cells": [
  {
   "cell_type": "code",
   "execution_count": 1,
   "id": "c8beb6ed-69b4-40ce-a10b-1d7eaed282bf",
   "metadata": {},
   "outputs": [],
   "source": [
    "x= [0 for n in range(1,5)]"
   ]
  },
  {
   "cell_type": "code",
   "execution_count": 2,
   "id": "8fb37a1d-729b-4c97-91fa-3619c0d2bbdb",
   "metadata": {},
   "outputs": [
    {
     "data": {
      "text/plain": [
       "[0, 0, 0, 0]"
      ]
     },
     "execution_count": 2,
     "metadata": {},
     "output_type": "execute_result"
    }
   ],
   "source": [
    "x"
   ]
  },
  {
   "cell_type": "code",
   "execution_count": 5,
   "id": "b00e09c3-ca43-43dd-9753-94f212fe3304",
   "metadata": {},
   "outputs": [],
   "source": [
    "x[2] = 1"
   ]
  },
  {
   "cell_type": "code",
   "execution_count": 6,
   "id": "3d4e8be8-d0fa-4e3d-b4d0-c416e1d25bc2",
   "metadata": {},
   "outputs": [
    {
     "data": {
      "text/plain": [
       "[1, 0, 1, 0]"
      ]
     },
     "execution_count": 6,
     "metadata": {},
     "output_type": "execute_result"
    }
   ],
   "source": [
    "x"
   ]
  },
  {
   "cell_type": "code",
   "execution_count": 10,
   "id": "b214143e-6fc7-42b9-93a4-3aebb3c7f240",
   "metadata": {},
   "outputs": [],
   "source": [
    "R.<x> = PolynomialRing(QQ)"
   ]
  },
  {
   "cell_type": "code",
   "execution_count": 11,
   "id": "9271e24e-f4cc-426a-b080-461a6aad1ee2",
   "metadata": {},
   "outputs": [
    {
     "data": {
      "text/plain": [
       "Univariate Polynomial Ring in x over Rational Field"
      ]
     },
     "execution_count": 11,
     "metadata": {},
     "output_type": "execute_result"
    }
   ],
   "source": [
    "R"
   ]
  },
  {
   "cell_type": "code",
   "execution_count": 12,
   "id": "2375932e-368b-4e5d-aef7-ab5e14226e1d",
   "metadata": {},
   "outputs": [],
   "source": [
    "f = x^9 + x^7 +6*x +7"
   ]
  },
  {
   "cell_type": "code",
   "execution_count": 14,
   "id": "766d9d24-a96d-4d34-ac2d-8e0a4df66927",
   "metadata": {},
   "outputs": [],
   "source": [
    "g = f.derivative()"
   ]
  },
  {
   "cell_type": "code",
   "execution_count": 15,
   "id": "a77d3cd1-63dc-4860-aec9-a9f7e4f2f876",
   "metadata": {},
   "outputs": [
    {
     "data": {
      "text/plain": [
       "9*x^8 + 7*x^6 + 6"
      ]
     },
     "execution_count": 15,
     "metadata": {},
     "output_type": "execute_result"
    }
   ],
   "source": [
    "g"
   ]
  },
  {
   "cell_type": "code",
   "execution_count": 16,
   "id": "ca6b1f2b-949f-4f96-bbec-464f3c85b468",
   "metadata": {},
   "outputs": [
    {
     "data": {
      "text/plain": [
       "2758"
      ]
     },
     "execution_count": 16,
     "metadata": {},
     "output_type": "execute_result"
    }
   ],
   "source": [
    "g(2)"
   ]
  },
  {
   "cell_type": "code",
   "execution_count": null,
   "id": "53fb3b85-2858-400f-9807-165ea9a1b64f",
   "metadata": {},
   "outputs": [],
   "source": []
  }
 ],
 "metadata": {
  "kernelspec": {
   "display_name": "SageMath 10.1",
   "language": "sage",
   "name": "sagemath-dev"
  },
  "language_info": {
   "codemirror_mode": {
    "name": "ipython",
    "version": 3
   },
   "file_extension": ".py",
   "mimetype": "text/x-python",
   "name": "python",
   "nbconvert_exporter": "python",
   "pygments_lexer": "ipython3",
   "version": "3.11.8"
  }
 },
 "nbformat": 4,
 "nbformat_minor": 5
}
