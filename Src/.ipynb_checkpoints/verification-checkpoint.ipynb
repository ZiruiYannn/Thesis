{
 "cells": [
  {
   "cell_type": "code",
   "execution_count": 81,
   "id": "3fc14200-f75a-49d8-aa9a-aa1f4dd2ec3a",
   "metadata": {},
   "outputs": [],
   "source": [
    "R.<X1,X2,Y1,Y2,Z1,Z2,a1,a2,a3,a4,a6> = PolynomialRing(Integers(),11) \n",
    "X1X2 = X1*X2\n",
    "X1Y2 = X1*Y2 \n",
    "X1Z2 = X1*Z2\n",
    "\n",
    "X2Y1 = X2*Y1\n",
    "X2Z1 = X2*Z1\n",
    "\n",
    "Y1Z2 = Y1*Z2\n",
    "Y1Y2 = Y1*Y2\n",
    "\n",
    "Y2Z1 = Y2*Z1\n",
    "\n",
    "Z1Z2 = Z1*Z2\n",
    "\n",
    "\n",
    "a12 = a1*a1\n",
    "a1a2 = a1*a2\n",
    "a1a3 = a1*a3\n",
    "a1a4 = a1*a4\n",
    "a1a6 = a1*a6\n",
    "\n",
    "a2a3 = a2*a3\n",
    "\n",
    "a32 = a3*a3\n",
    "a3a4 = a3*a4\n",
    "\n",
    "X3 = (X1Y2 - X2Y1) * (Y1Z2 + Y2Z1) + (X1Z2 - X2Z1) * Y1Y2 + a1 * X1X2 * (Y1Z2 - Y2Z1) + \\\n",
    "a1 * (X1Y2 - X2Y1) * (X1Z2 + X2Z1) - a2 * X1X2 * (X1Z2 - X2Z1) + a3 * (X1Y2 - X2Y1) * Z1Z2 + \\\n",
    "a3 * (X1Z2 - X2Z1) * (Y1Z2 + Y2Z1) - a4 * (X1Z2 + X2Z1) *(X1Z2 - X2Z1) - 3*a6 * (X1Z2 - X2Z1) * Z1Z2\n",
    "\n",
    "\n",
    "Y3 = -3 * X1X2 * (X1Y2 - X2Y1) \\\n",
    "- Y1Y2 * (Y1Z2 - Y2Z1) - 2*a1 * (X1Z2 - X2Z1) *  Y1Y2 \\\n",
    "+ (a12 + 3*a2) * X1X2 * (Y1Z2 - Y2Z1) \\\n",
    "- (a12 + a2) * (X1Y2 + X2Y1) * (X1Z2 - X2Z1) \\\n",
    "+ (a1a2 - 3*a3) * X1X2 * (X1Z2 - X2Z1) \\\n",
    "- (2*a1a3 + a4) * (X1Y2 - X2Y1) * Z1Z2 \\\n",
    "+ a4 * (X1Z2 + X2Z1) * (Y1Z2 - Y2Z1) \\\n",
    "+ (a1a4 - a2a3) * (X1Z2 + X2Z1) * (X1Z2 - X2Z1) \\\n",
    "+ (a32 + 3*a6) * (Y1Z2 - Y2Z1) * Z1Z2 \\\n",
    "+ (3 * a1a6 - a3a4) * (X1Z2 - X2Z1) * Z1Z2\n",
    "\n",
    "Z3 = 3 * X1X2 * (X1Z2 - X2Z1) - (Y1Z2 + Y2Z1) * (Y1Z2 - Y2Z1) \\\n",
    "+ a1 * (X1Y2 - X2Y1) * Z1Z2 - a1 * (X1Z2 - X2Z1) * (Y1Z2 + Y2Z1) \\\n",
    "+ a2 * (X1Z2 + X2Z1) * (X1Z2 - X2Z1) - a3 * (Y1Z2 - Y2Z1) * Z1Z2 \\\n",
    "+ a4 * (X1Z2 - X2Z1) * Z1Z2"
   ]
  },
  {
   "cell_type": "code",
   "execution_count": 82,
   "id": "2fa6cceb-e87f-41ff-a41f-674823ef51c7",
   "metadata": {},
   "outputs": [],
   "source": [
    "g3 = X1Z2 - X2Z1 "
   ]
  },
  {
   "cell_type": "code",
   "execution_count": 83,
   "id": "57f95869-d313-4346-940d-9b4064acdf51",
   "metadata": {},
   "outputs": [],
   "source": [
    "g1 = X2*(a1*X1+a3*Z1+Y1)+X1Y2\n",
    "g2 = Z2*(a1*X1+a3*Z1+Y1)+Z1*Y2"
   ]
  },
  {
   "cell_type": "code",
   "execution_count": 80,
   "id": "546b22f0-096f-4e6e-a600-ddedd55af67f",
   "metadata": {},
   "outputs": [
    {
     "data": {
      "text/plain": [
       "True"
      ]
     },
     "execution_count": 80,
     "metadata": {},
     "output_type": "execute_result"
    }
   ],
   "source": [
    "X3 in Ideal(g1,g2,g3)"
   ]
  },
  {
   "cell_type": "code",
   "execution_count": 84,
   "id": "6f0f6439-57fc-4c2a-90f6-06037122bc4c",
   "metadata": {},
   "outputs": [
    {
     "data": {
      "text/plain": [
       "True"
      ]
     },
     "execution_count": 84,
     "metadata": {},
     "output_type": "execute_result"
    }
   ],
   "source": [
    "Z3 in Ideal(g1,g2,g3)"
   ]
  },
  {
   "cell_type": "code",
   "execution_count": 85,
   "id": "1076d98c-8711-47bc-9706-4cd26952578e",
   "metadata": {},
   "outputs": [
    {
     "data": {
      "text/plain": [
       "[0, -X2*Y1 + X1*Y2, X2*Y1*a1 - X1*X2*a2 + Y2*Z1*a3 + Y1*Z2*a3 - X2*Z1*a4 - X1*Z2*a4 - 3*Z1*Z2*a6 + Y1*Y2]"
      ]
     },
     "execution_count": 85,
     "metadata": {},
     "output_type": "execute_result"
    }
   ],
   "source": [
    "X3.lift(Ideal(g1,g2,g3))"
   ]
  },
  {
   "cell_type": "code",
   "execution_count": 87,
   "id": "c0d49b85-ea4e-4da0-ae24-f92b097e3361",
   "metadata": {},
   "outputs": [],
   "source": [
    "H1 = -X2*Y1 + X1*Y2\n",
    "H2 = X2*Y1*a1 - X1*X2*a2 + Y2*Z1*a3 + Y1*Z2*a3 - X2*Z1*a4 - X1*Z2*a4 - 3*Z1*Z2*a6 + Y1*Y2"
   ]
  },
  {
   "cell_type": "code",
   "execution_count": 86,
   "id": "310f1ffc-601e-465d-b69b-af09ab64d53a",
   "metadata": {},
   "outputs": [
    {
     "data": {
      "text/plain": [
       "[0, Y2*Z1 - Y1*Z2, -Y2*Z1*a1 + X2*Z1*a2 + X1*Z2*a2 + Z1*Z2*a4 + 3*X1*X2]"
      ]
     },
     "execution_count": 86,
     "metadata": {},
     "output_type": "execute_result"
    }
   ],
   "source": [
    "Z3.lift(Ideal(g1,g2,g3))"
   ]
  },
  {
   "cell_type": "code",
   "execution_count": 88,
   "id": "931baa99-9f29-466d-969f-849a5ac7b0dd",
   "metadata": {},
   "outputs": [],
   "source": [
    "H3 = Y2*Z1 - Y1*Z2 \n",
    "H4 = -Y2*Z1*a1 + X2*Z1*a2 + X1*Z2*a2 + Z1*Z2*a4 + 3*X1*X2"
   ]
  },
  {
   "cell_type": "code",
   "execution_count": 97,
   "id": "daa11d74-233c-4352-81de-2874fa65c7c4",
   "metadata": {},
   "outputs": [
    {
     "data": {
      "text/plain": [
       "False"
      ]
     },
     "execution_count": 97,
     "metadata": {},
     "output_type": "execute_result"
    }
   ],
   "source": [
    "#Y3 = H1H4 - H3H2\n",
    "Y3 in Ideal(H1,H2,H3,H4)"
   ]
  },
  {
   "cell_type": "code",
   "execution_count": 100,
   "id": "ccbebff2-b372-496c-a666-e868d31c5121",
   "metadata": {},
   "outputs": [],
   "source": [
    "HY3 = Y3.lift(Ideal(H1,H2,H3,H4))"
   ]
  },
  {
   "cell_type": "code",
   "execution_count": 102,
   "id": "38c6be1e-84e3-47bd-8fb7-9067a56543e9",
   "metadata": {},
   "outputs": [
    {
     "data": {
      "text/plain": [
       "-X1*Z2*a1^2 - Z1*Z2*a1*a3 - Y1*Z2*a1 - X2*Z1*a2 - X1*Z2*a2 - Z1*Z2*a4 - 3*X1*X2"
      ]
     },
     "execution_count": 102,
     "metadata": {},
     "output_type": "execute_result"
    }
   ],
   "source": [
    "#H1 = -X2*Y1 + X1*Y2\n",
    "#H2 = X2*Y1*a1 - X1*X2*a2 + Y2*Z1*a3 + Y1*Z2*a3 - X2*Z1*a4 - X1*Z2*a4 - 3*Z1*Z2*a6 + Y1*Y2\n",
    "HY3[0]"
   ]
  },
  {
   "cell_type": "code",
   "execution_count": 104,
   "id": "7094559c-27f3-440e-9b1e-ec9ccc95c1eb",
   "metadata": {},
   "outputs": [
    {
     "data": {
      "text/plain": [
       "X2*Z1*a1 - X1*Z2*a1"
      ]
     },
     "execution_count": 104,
     "metadata": {},
     "output_type": "execute_result"
    }
   ],
   "source": [
    "HY3[1]"
   ]
  },
  {
   "cell_type": "code",
   "execution_count": 105,
   "id": "4cf8c901-2068-4dd6-913b-0fdfc7227d04",
   "metadata": {},
   "outputs": [
    {
     "data": {
      "text/plain": [
       "-X1*Z2*a1*a3 - Z1*Z2*a3^2 + X2*Y1*a1 - X1*X2*a2 - X2*Z1*a4 - X1*Z2*a4 - 3*Z1*Z2*a6 + Y1*Y2"
      ]
     },
     "execution_count": 105,
     "metadata": {},
     "output_type": "execute_result"
    }
   ],
   "source": [
    "HY3[2]"
   ]
  },
  {
   "cell_type": "code",
   "execution_count": 106,
   "id": "bb492c42-8919-4489-adba-9ea9fcc337a8",
   "metadata": {},
   "outputs": [
    {
     "data": {
      "text/plain": [
       "X2*Z1*a3 - X1*Z2*a3"
      ]
     },
     "execution_count": 106,
     "metadata": {},
     "output_type": "execute_result"
    }
   ],
   "source": [
    "HY3[3]"
   ]
  },
  {
   "cell_type": "code",
   "execution_count": 156,
   "id": "4f5f9fb2-e3d9-488f-9f53-c631268d3f4d",
   "metadata": {},
   "outputs": [
    {
     "data": {
      "text/plain": [
       "True"
      ]
     },
     "execution_count": 156,
     "metadata": {},
     "output_type": "execute_result"
    }
   ],
   "source": [
    "Y3 in Ideal( H1,H3,g3)"
   ]
  },
  {
   "cell_type": "code",
   "execution_count": 142,
   "id": "1bbb8259-03ca-4440-a969-cc910fac9bf3",
   "metadata": {},
   "outputs": [],
   "source": [
    "HY = Y3.lift(Ideal( H1,H3,g3))"
   ]
  },
  {
   "cell_type": "code",
   "execution_count": 143,
   "id": "6a1c215e-f294-4187-91eb-ee0f78d03009",
   "metadata": {},
   "outputs": [
    {
     "data": {
      "text/plain": [
       "-X1*Z2*a1^2 - 2*Y1*Z2*a1 - X1*Z2*a2 - 3*X1*X2"
      ]
     },
     "execution_count": 143,
     "metadata": {},
     "output_type": "execute_result"
    }
   ],
   "source": [
    "HY[0]"
   ]
  },
  {
   "cell_type": "code",
   "execution_count": 144,
   "id": "d2736961-c755-436b-a200-e183e646d6d9",
   "metadata": {},
   "outputs": [
    {
     "data": {
      "text/plain": [
       "-2*X1*Z2*a1*a3 - Z1*Z2*a3^2 + 2*X2*Y1*a1 - 2*X1*X2*a2 - X2*Z1*a4 - 2*X1*Z2*a4 - 3*Z1*Z2*a6 + Y1*Y2"
      ]
     },
     "execution_count": 144,
     "metadata": {},
     "output_type": "execute_result"
    }
   ],
   "source": [
    "HY[1]"
   ]
  },
  {
   "cell_type": "code",
   "execution_count": 145,
   "id": "35f99ebc-0072-458b-aed6-b3859e5b2c80",
   "metadata": {},
   "outputs": [
    {
     "data": {
      "text/plain": [
       "-X2*Y1*a1^2 + X1*X2*a1*a2 - 2*Y1*Z2*a1*a3 - X2*Z1*a2*a3 - X1*Z2*a2*a3 + X2*Z1*a1*a4 + X1*Z2*a1*a4 - Z1*Z2*a3*a4 + 3*Z1*Z2*a1*a6 - X2*Y1*a2 - 3*X1*X2*a3 - Y1*Z2*a4"
      ]
     },
     "execution_count": 145,
     "metadata": {},
     "output_type": "execute_result"
    }
   ],
   "source": [
    "HY[2]"
   ]
  },
  {
   "cell_type": "code",
   "execution_count": 146,
   "id": "f4ec5805-ab42-45d8-b348-50c148573a2d",
   "metadata": {},
   "outputs": [],
   "source": [
    "HY2 = Y3.lift(Ideal(g3, H1,H3))"
   ]
  },
  {
   "cell_type": "code",
   "execution_count": 147,
   "id": "c10f2686-01fe-4baf-a18e-191d84b61475",
   "metadata": {},
   "outputs": [
    {
     "data": {
      "text/plain": [
       "-X2*Y1*a1^2 + X1*X2*a1*a2 - 2*Y1*Z2*a1*a3 - X2*Z1*a2*a3 - X1*Z2*a2*a3 + X2*Z1*a1*a4 + X1*Z2*a1*a4 - Z1*Z2*a3*a4 + 3*Z1*Z2*a1*a6 - X2*Y1*a2 - 3*X1*X2*a3 - Y1*Z2*a4"
      ]
     },
     "execution_count": 147,
     "metadata": {},
     "output_type": "execute_result"
    }
   ],
   "source": [
    "HY2[0]"
   ]
  },
  {
   "cell_type": "code",
   "execution_count": 148,
   "id": "b077e3ae-29ba-4b5d-a679-ea1bc018e4e8",
   "metadata": {},
   "outputs": [
    {
     "data": {
      "text/plain": [
       "-X2*Y1*a1^2 + X1*X2*a1*a2 - 2*Y1*Z2*a1*a3 - X2*Z1*a2*a3 - X1*Z2*a2*a3 + X2*Z1*a1*a4 + X1*Z2*a1*a4 - Z1*Z2*a3*a4 + 3*Z1*Z2*a1*a6 - X2*Y1*a2 - 3*X1*X2*a3 - Y1*Z2*a4"
      ]
     },
     "execution_count": 148,
     "metadata": {},
     "output_type": "execute_result"
    }
   ],
   "source": [
    "HY[2]"
   ]
  },
  {
   "cell_type": "code",
   "execution_count": 149,
   "id": "dee432c4-7aa0-4b05-ae0b-907cefd024c2",
   "metadata": {},
   "outputs": [
    {
     "data": {
      "text/plain": [
       "-X1*Z2*a1^2 - 2*Y1*Z2*a1 - X1*Z2*a2 - 3*X1*X2"
      ]
     },
     "execution_count": 149,
     "metadata": {},
     "output_type": "execute_result"
    }
   ],
   "source": [
    "HY2[1]"
   ]
  },
  {
   "cell_type": "code",
   "execution_count": 151,
   "id": "7b144e91-8af9-4ba3-86ca-2542cf5bb88b",
   "metadata": {},
   "outputs": [
    {
     "data": {
      "text/plain": [
       "-X1*Z2*a1^2 - 2*Y1*Z2*a1 - X1*Z2*a2 - 3*X1*X2"
      ]
     },
     "execution_count": 151,
     "metadata": {},
     "output_type": "execute_result"
    }
   ],
   "source": [
    "HY[0]"
   ]
  },
  {
   "cell_type": "code",
   "execution_count": 152,
   "id": "dcbecbb9-412b-48c1-a8c2-25cf4d4f0aaf",
   "metadata": {},
   "outputs": [
    {
     "data": {
      "text/plain": [
       "-2*X1*Z2*a1*a3 - Z1*Z2*a3^2 + 2*X2*Y1*a1 - 2*X1*X2*a2 - X2*Z1*a4 - 2*X1*Z2*a4 - 3*Z1*Z2*a6 + Y1*Y2"
      ]
     },
     "execution_count": 152,
     "metadata": {},
     "output_type": "execute_result"
    }
   ],
   "source": [
    "HY2[2]"
   ]
  },
  {
   "cell_type": "code",
   "execution_count": 153,
   "id": "3c1a5578-17b1-45da-9e74-d8c92b0feb66",
   "metadata": {},
   "outputs": [
    {
     "data": {
      "text/plain": [
       "-2*X1*Z2*a1*a3 - Z1*Z2*a3^2 + 2*X2*Y1*a1 - 2*X1*X2*a2 - X2*Z1*a4 - 2*X1*Z2*a4 - 3*Z1*Z2*a6 + Y1*Y2"
      ]
     },
     "execution_count": 153,
     "metadata": {},
     "output_type": "execute_result"
    }
   ],
   "source": [
    "HY[1]"
   ]
  },
  {
   "cell_type": "code",
   "execution_count": 113,
   "id": "3c031afd-2bc6-4d1f-a3fd-3a6ec68e52d2",
   "metadata": {},
   "outputs": [],
   "source": [
    "g4 = -X2*Y1 + X1*Y2\n",
    "g5 = Y2*Z1 - Y1*Z2"
   ]
  },
  {
   "cell_type": "code",
   "execution_count": 116,
   "id": "93aaa26f-b5c6-466f-932b-ed25574faad9",
   "metadata": {},
   "outputs": [
    {
     "data": {
      "text/plain": [
       "True"
      ]
     },
     "execution_count": 116,
     "metadata": {},
     "output_type": "execute_result"
    }
   ],
   "source": [
    "X3 in Ideal(g3,g4,g5)"
   ]
  },
  {
   "cell_type": "code",
   "execution_count": 117,
   "id": "d9f32900-c85f-4489-832f-326963c7f1cb",
   "metadata": {},
   "outputs": [
    {
     "data": {
      "text/plain": [
       "True"
      ]
     },
     "execution_count": 117,
     "metadata": {},
     "output_type": "execute_result"
    }
   ],
   "source": [
    "Z3 in Ideal(g3,g4,g5)"
   ]
  },
  {
   "cell_type": "code",
   "execution_count": 118,
   "id": "b8244bd1-b9dd-4e37-a137-d1a146fc410e",
   "metadata": {},
   "outputs": [],
   "source": [
    "HX = X3.lift(Ideal(g3,g4,g5))"
   ]
  },
  {
   "cell_type": "code",
   "execution_count": 120,
   "id": "ec2bd5bb-acf5-4a3b-805b-28a01d2b81ac",
   "metadata": {},
   "outputs": [
    {
     "data": {
      "text/plain": [
       "X2*Y1*a1 - X1*X2*a2 + 3*Y1*Z2*a3 - X2*Z1*a4 - X1*Z2*a4 - 3*Z1*Z2*a6"
      ]
     },
     "execution_count": 120,
     "metadata": {},
     "output_type": "execute_result"
    }
   ],
   "source": [
    "HX[0]"
   ]
  },
  {
   "cell_type": "code",
   "execution_count": 121,
   "id": "c7a37c27-78eb-4cfd-9636-d9ec8f1ceb41",
   "metadata": {},
   "outputs": [
    {
     "data": {
      "text/plain": [
       "X1*Z2*a1 + 3*Y1*Z2"
      ]
     },
     "execution_count": 121,
     "metadata": {},
     "output_type": "execute_result"
    }
   ],
   "source": [
    "HX[1]"
   ]
  },
  {
   "cell_type": "code",
   "execution_count": 122,
   "id": "0e66b515-0231-4e47-85ae-9f4b992db22e",
   "metadata": {},
   "outputs": [
    {
     "data": {
      "text/plain": [
       "-X2*Z1*a3 + 2*X1*Z2*a3 - 2*X2*Y1 + X1*Y2"
      ]
     },
     "execution_count": 122,
     "metadata": {},
     "output_type": "execute_result"
    }
   ],
   "source": [
    "HX[2]"
   ]
  },
  {
   "cell_type": "code",
   "execution_count": 123,
   "id": "7288d5fb-de38-49df-a3d7-907076638d77",
   "metadata": {},
   "outputs": [],
   "source": [
    "HZ = Z3.lift(Ideal(g3,g4,g5))"
   ]
  },
  {
   "cell_type": "code",
   "execution_count": 124,
   "id": "6d89c4c8-c546-474f-8353-e70c13076cb7",
   "metadata": {},
   "outputs": [
    {
     "data": {
      "text/plain": [
       "-Y1*Z2*a1 + X2*Z1*a2 + X1*Z2*a2 + Z1*Z2*a4 + 3*X1*X2"
      ]
     },
     "execution_count": 124,
     "metadata": {},
     "output_type": "execute_result"
    }
   ],
   "source": [
    "HZ[0]"
   ]
  },
  {
   "cell_type": "code",
   "execution_count": 126,
   "id": "a968c4f7-08fb-4d67-a1e1-79b281aefcef",
   "metadata": {},
   "outputs": [
    {
     "data": {
      "text/plain": [
       "0"
      ]
     },
     "execution_count": 126,
     "metadata": {},
     "output_type": "execute_result"
    }
   ],
   "source": [
    "HZ[1]"
   ]
  },
  {
   "cell_type": "code",
   "execution_count": 128,
   "id": "506b2953-5010-4778-9551-59942efb137d",
   "metadata": {},
   "outputs": [
    {
     "data": {
      "text/plain": [
       "X2*Z1*a1 + Z1*Z2*a3 + Y2*Z1 + Y1*Z2"
      ]
     },
     "execution_count": 128,
     "metadata": {},
     "output_type": "execute_result"
    }
   ],
   "source": [
    "HZ[2]"
   ]
  },
  {
   "cell_type": "code",
   "execution_count": 131,
   "id": "cd4b70a2-37d4-4d7e-a0bf-b81e189d91f2",
   "metadata": {},
   "outputs": [
    {
     "data": {
      "text/plain": [
       "False"
      ]
     },
     "execution_count": 131,
     "metadata": {},
     "output_type": "execute_result"
    }
   ],
   "source": [
    "Y3 in Ideal(HX[0],HX[1],HX[2],HZ[0],HZ[1],HZ[2])"
   ]
  },
  {
   "cell_type": "code",
   "execution_count": null,
   "id": "04312c12-09c3-4b32-b0c8-7d02dd5f7cb0",
   "metadata": {},
   "outputs": [],
   "source": []
  },
  {
   "cell_type": "code",
   "execution_count": null,
   "id": "f51b7779-0ec3-4507-b552-a438672d02fb",
   "metadata": {},
   "outputs": [],
   "source": []
  },
  {
   "cell_type": "code",
   "execution_count": null,
   "id": "2c26e979-365e-446c-9b17-e06d4017e6e5",
   "metadata": {},
   "outputs": [],
   "source": []
  },
  {
   "cell_type": "code",
   "execution_count": 2,
   "id": "60af35a3-cd9e-49f6-848f-dba9a71d1ee3",
   "metadata": {},
   "outputs": [],
   "source": [
    "X3_red = (X1Y2 + X2Y1)*(Y1Y2 -a4*(X1Z2+X2Z1)-3*a6*Z1Z2) - (Y1Z2+Y2Z1)*(a4*X1X2+3*a6*(X1Z2+X2Z1)-a4*a4*Z1Z2)"
   ]
  },
  {
   "cell_type": "code",
   "execution_count": 3,
   "id": "b98e525a-4e1a-4ba2-9dcf-ae3650fec8ef",
   "metadata": {},
   "outputs": [
    {
     "data": {
      "text/plain": [
       "True"
      ]
     },
     "execution_count": 3,
     "metadata": {},
     "output_type": "execute_result"
    }
   ],
   "source": [
    "X3-X3_red in Ideal(X1Y2+X2Y1, Y1Z2+Y2Z1, X1Z2,X2Z1)"
   ]
  },
  {
   "cell_type": "code",
   "execution_count": 4,
   "id": "fe8746fa-6da8-4f83-b1b8-c847e47f35c1",
   "metadata": {},
   "outputs": [
    {
     "data": {
      "text/plain": [
       "[-Y1*Y2 + Y1*Z2, -Z1*Z2*a4^2 - X2*Z1*a3 + 2*X1*X2*a4 + 3*X2*Z1*a6 - 2*X2*Y1 + X1*Y2, X1*Y2*a1 - X1*X2*a2 + 2*Y2*Z1*a3 + Y1*Z2*a3 + X1*Y2*a4 - X1*Z2*a4 + 6*Y2*Z1*a6 + 3*Y1*Z2*a6 - 3*Z1*Z2*a6, -X2*Y1*a1 + X1*X2*a2 - Y1*Z2*a3 + X2*Y1*a4 + X2*Z1*a4 + 3*Y1*Z2*a6 + 3*Z1*Z2*a6]"
      ]
     },
     "execution_count": 4,
     "metadata": {},
     "output_type": "execute_result"
    }
   ],
   "source": [
    "(X3-X3_red).lift(Ideal(X1Y2+X2Y1, Y1Z2+Y2Z1, X1Z2,X2Z1))"
   ]
  },
  {
   "cell_type": "code",
   "execution_count": 5,
   "id": "8b81168f-67be-4653-b8c9-bde5868405c6",
   "metadata": {},
   "outputs": [],
   "source": [
    "set = [1,2,3, a1,-a1,a2,-a2,a3,-a3,a4,-a4,0]"
   ]
  },
  {
   "cell_type": "code",
   "execution_count": null,
   "id": "1801854f-c9d5-4b7c-bc53-44cb6d77e211",
   "metadata": {},
   "outputs": [],
   "source": [
    "Y3"
   ]
  },
  {
   "cell_type": "code",
   "execution_count": null,
   "id": "69d736a7-ad31-47db-bb81-36855ad3a166",
   "metadata": {},
   "outputs": [],
   "source": [
    "X3 in Ideal(X1Y2+X2Y1, Y1Z2+Y2Z1, X1Z2,X2Z1)"
   ]
  },
  {
   "cell_type": "code",
   "execution_count": null,
   "id": "bf9d9b79-72f0-4d78-9be1-a506dbdb3c3b",
   "metadata": {},
   "outputs": [],
   "source": [
    "HX3 = X3.lift(Ideal(X1Y2+X2Y1, Y1Z2+Y2Z1, X1Z2,X2Z1))"
   ]
  },
  {
   "cell_type": "code",
   "execution_count": null,
   "id": "69f50d77-a983-4fbe-87c0-4ec62c514f6f",
   "metadata": {},
   "outputs": [],
   "source": [
    "H1 = HX3[0]\n",
    "H2 = HX3[1]\n",
    "H3 = HX3[2]\n",
    "H4 = HX3[3]\n",
    "H1"
   ]
  },
  {
   "cell_type": "code",
   "execution_count": null,
   "id": "2884ddb3-c14e-46a6-8227-1ea2f0a09b31",
   "metadata": {},
   "outputs": [],
   "source": [
    "H2"
   ]
  },
  {
   "cell_type": "code",
   "execution_count": null,
   "id": "68e61b90-5fbb-4a71-a5da-d97d91b462d5",
   "metadata": {},
   "outputs": [],
   "source": [
    "H3"
   ]
  },
  {
   "cell_type": "code",
   "execution_count": null,
   "id": "2ed20c17-b2d6-4c80-a4ba-44530b453c83",
   "metadata": {},
   "outputs": [],
   "source": [
    "H4"
   ]
  },
  {
   "cell_type": "code",
   "execution_count": null,
   "id": "eb000f65-9c77-41e3-b9ae-59e8cebd7128",
   "metadata": {},
   "outputs": [],
   "source": [
    "Z3 in Ideal(X1Y2+X2Y1, Y1Z2+Y2Z1, X1Z2,X2Z1)"
   ]
  },
  {
   "cell_type": "code",
   "execution_count": null,
   "id": "fbfd90f5-406d-4ef6-b4c9-0cb070927e4e",
   "metadata": {},
   "outputs": [],
   "source": [
    "X3 in Ideal (X1*Y2 + X2*Y1, Z1*Z2*a3 + Y1*Z2 + Y2*Z1,Z1*Y2,Z2*Y1,Y1Y2)"
   ]
  },
  {
   "cell_type": "code",
   "execution_count": 7,
   "id": "c3862424-49e9-4e15-8274-ce6e8c22d2dd",
   "metadata": {},
   "outputs": [
    {
     "ename": "KeyboardInterrupt",
     "evalue": "",
     "output_type": "error",
     "traceback": [
      "\u001b[0;31m---------------------------------------------------------------------------\u001b[0m",
      "\u001b[0;31mKeyboardInterrupt\u001b[0m                         Traceback (most recent call last)",
      "    \u001b[0;31m[... skipping hidden 1 frame]\u001b[0m\n",
      "Cell \u001b[0;32mIn[7], line 3\u001b[0m\n\u001b[1;32m      2\u001b[0m \u001b[38;5;28mset\u001b[39m\u001b[38;5;241m.\u001b[39mappend(Integer(\u001b[38;5;241m0\u001b[39m))\n\u001b[0;32m----> 3\u001b[0m set2 \u001b[38;5;241m=\u001b[39m \u001b[43m[\u001b[49m\u001b[43mc1\u001b[49m\u001b[38;5;241;43m*\u001b[39;49m\u001b[43mX1X2\u001b[49m\u001b[43m \u001b[49m\u001b[38;5;241;43m+\u001b[39;49m\u001b[43m \u001b[49m\u001b[43mc2\u001b[49m\u001b[38;5;241;43m*\u001b[39;49m\u001b[43mX1Y2\u001b[49m\u001b[43m \u001b[49m\u001b[38;5;241;43m+\u001b[39;49m\u001b[43m \u001b[49m\u001b[43mc3\u001b[49m\u001b[38;5;241;43m*\u001b[39;49m\u001b[43mX1Z2\u001b[49m\u001b[43m \u001b[49m\u001b[38;5;241;43m+\u001b[39;49m\u001b[43m \u001b[49m\u001b[43mc4\u001b[49m\u001b[38;5;241;43m*\u001b[39;49m\u001b[43mY1\u001b[49m\u001b[38;5;241;43m*\u001b[39;49m\u001b[43mX2\u001b[49m\u001b[43m \u001b[49m\u001b[38;5;241;43m+\u001b[39;49m\u001b[43mc5\u001b[49m\u001b[38;5;241;43m*\u001b[39;49m\u001b[43mY1Y2\u001b[49m\u001b[38;5;241;43m+\u001b[39;49m\u001b[43m \u001b[49m\u001b[43mc6\u001b[49m\u001b[38;5;241;43m*\u001b[39;49m\u001b[43mY1Z2\u001b[49m\u001b[38;5;241;43m+\u001b[39;49m\u001b[43mc7\u001b[49m\u001b[38;5;241;43m*\u001b[39;49m\u001b[43mZ1Z2\u001b[49m\u001b[43m \u001b[49m\u001b[38;5;28;43;01mfor\u001b[39;49;00m\u001b[43m \u001b[49m\u001b[43mc1\u001b[49m\u001b[43m \u001b[49m\u001b[38;5;129;43;01min\u001b[39;49;00m\u001b[43m \u001b[49m\u001b[38;5;28;43mset\u001b[39;49m\u001b[43m \u001b[49m\u001b[38;5;28;43;01mfor\u001b[39;49;00m\u001b[43m \u001b[49m\u001b[43mc2\u001b[49m\u001b[43m \u001b[49m\u001b[38;5;129;43;01min\u001b[39;49;00m\u001b[43m \u001b[49m\u001b[38;5;28;43mset\u001b[39;49m\u001b[43m \u001b[49m\u001b[38;5;28;43;01mfor\u001b[39;49;00m\u001b[43m \u001b[49m\u001b[43mc3\u001b[49m\u001b[43m \u001b[49m\u001b[38;5;129;43;01min\u001b[39;49;00m\u001b[43m \u001b[49m\u001b[38;5;28;43mset\u001b[39;49m\u001b[43m \u001b[49m\u001b[38;5;28;43;01mfor\u001b[39;49;00m\u001b[43m \u001b[49m\u001b[43mc4\u001b[49m\u001b[43m \u001b[49m\u001b[38;5;129;43;01min\u001b[39;49;00m\u001b[43m \u001b[49m\u001b[38;5;28;43mset\u001b[39;49m\u001b[43m \u001b[49m\u001b[38;5;28;43;01mfor\u001b[39;49;00m\u001b[43m \u001b[49m\u001b[43mc5\u001b[49m\u001b[43m \u001b[49m\u001b[38;5;129;43;01min\u001b[39;49;00m\u001b[43m \u001b[49m\u001b[38;5;28;43mset\u001b[39;49m\u001b[43m \u001b[49m\u001b[38;5;28;43;01mfor\u001b[39;49;00m\u001b[43m \u001b[49m\u001b[43mc6\u001b[49m\u001b[43m \u001b[49m\u001b[38;5;129;43;01min\u001b[39;49;00m\u001b[43m \u001b[49m\u001b[38;5;28;43mset\u001b[39;49m\u001b[43m \u001b[49m\u001b[38;5;28;43;01mfor\u001b[39;49;00m\u001b[43m \u001b[49m\u001b[43mc7\u001b[49m\u001b[43m \u001b[49m\u001b[38;5;129;43;01min\u001b[39;49;00m\u001b[43m \u001b[49m\u001b[38;5;28;43mset\u001b[39;49m\u001b[43m \u001b[49m\u001b[38;5;28;43;01mfor\u001b[39;49;00m\u001b[43m \u001b[49m\u001b[43mc8\u001b[49m\u001b[43m \u001b[49m\u001b[38;5;129;43;01min\u001b[39;49;00m\u001b[43m \u001b[49m\u001b[38;5;28;43mset\u001b[39;49m\u001b[43m \u001b[49m\u001b[43m]\u001b[49m\n",
      "Cell \u001b[0;32mIn[7], line 3\u001b[0m, in \u001b[0;36m<listcomp>\u001b[0;34m(.0)\u001b[0m\n\u001b[1;32m      2\u001b[0m \u001b[38;5;28mset\u001b[39m\u001b[38;5;241m.\u001b[39mappend(Integer(\u001b[38;5;241m0\u001b[39m))\n\u001b[0;32m----> 3\u001b[0m set2 \u001b[38;5;241m=\u001b[39m [c1\u001b[38;5;241m*\u001b[39mX1X2 \u001b[38;5;241m+\u001b[39m c2\u001b[38;5;241m*\u001b[39mX1Y2 \u001b[38;5;241m+\u001b[39m c3\u001b[38;5;241m*\u001b[39mX1Z2 \u001b[38;5;241m+\u001b[39m c4\u001b[38;5;241m*\u001b[39mY1\u001b[38;5;241m*\u001b[39mX2 \u001b[38;5;241m+\u001b[39mc5\u001b[38;5;241m*\u001b[39mY1Y2\u001b[38;5;241m+\u001b[39m c6\u001b[38;5;241m*\u001b[39mY1Z2\u001b[38;5;241m+\u001b[39mc7\u001b[38;5;241m*\u001b[39mZ1Z2 \u001b[38;5;28;01mfor\u001b[39;00m c1 \u001b[38;5;129;01min\u001b[39;00m \u001b[38;5;28mset\u001b[39m \u001b[38;5;28;01mfor\u001b[39;00m c2 \u001b[38;5;129;01min\u001b[39;00m \u001b[38;5;28mset\u001b[39m \u001b[38;5;28;01mfor\u001b[39;00m c3 \u001b[38;5;129;01min\u001b[39;00m \u001b[38;5;28mset\u001b[39m \u001b[38;5;28;01mfor\u001b[39;00m c4 \u001b[38;5;129;01min\u001b[39;00m \u001b[38;5;28mset\u001b[39m \u001b[38;5;28;01mfor\u001b[39;00m c5 \u001b[38;5;129;01min\u001b[39;00m \u001b[38;5;28mset\u001b[39m \u001b[38;5;28;01mfor\u001b[39;00m c6 \u001b[38;5;129;01min\u001b[39;00m \u001b[38;5;28mset\u001b[39m \u001b[38;5;28;01mfor\u001b[39;00m c7 \u001b[38;5;129;01min\u001b[39;00m \u001b[38;5;28mset\u001b[39m \u001b[38;5;28;01mfor\u001b[39;00m c8 \u001b[38;5;129;01min\u001b[39;00m \u001b[38;5;28mset\u001b[39m ]\n",
      "File \u001b[0;32msrc/cysignals/signals.pyx:341\u001b[0m, in \u001b[0;36mcysignals.signals.python_check_interrupt\u001b[0;34m()\u001b[0m\n",
      "\u001b[0;31mKeyboardInterrupt\u001b[0m: ",
      "\nDuring handling of the above exception, another exception occurred:\n",
      "\u001b[0;31mKeyboardInterrupt\u001b[0m                         Traceback (most recent call last)",
      "    \u001b[0;31m[... skipping hidden 1 frame]\u001b[0m\n",
      "File \u001b[0;32msrc/cysignals/signals.pyx:341\u001b[0m, in \u001b[0;36mcysignals.signals.python_check_interrupt\u001b[0;34m()\u001b[0m\n",
      "\u001b[0;31mKeyboardInterrupt\u001b[0m: "
     ]
    }
   ],
   "source": [
    "set = [sign*n*h for sign in [-1,1] for n in [1,2,3] for h in [a1,a2,a3,a4,a6]]\n",
    "set.append(0)\n",
    "set2 = [c1*X1X2 + c2*X1Y2 + c3*X1Z2 + c4*Y1*X2 +c5*Y1Y2+ c6*Y1Z2+c7*Z1Z2 for c1 in set for c2 in set for c3 in set for c4 in set for c5 in set for c6 in set for c7 in set for c8 in set ]"
   ]
  },
  {
   "cell_type": "code",
   "execution_count": null,
   "id": "fca63bff-8ba7-4207-ac0b-f6caaaabed30",
   "metadata": {},
   "outputs": [],
   "source": [
    "for h1 in set2:\n",
    "    if h1 == 0:\n",
    "continue\n",
    "    for h2 in set2:\n",
    "if Z3 in Ideal(h1,h2):\n",
    "    print(h1)\n",
    "    print(h2)\n",
    "    break\n",
    "    print(\"did not found,h1=\",h1)\n",
    "    "
   ]
  },
  {
   "cell_type": "code",
   "execution_count": null,
   "id": "a5fd21cc-3405-4944-91f1-3f7aaf5c8112",
   "metadata": {},
   "outputs": [],
   "source": [
    "len(set2)"
   ]
  },
  {
   "cell_type": "code",
   "execution_count": 12,
   "id": "4e4280f9-dc8d-4b18-94d7-aadd820c27a8",
   "metadata": {},
   "outputs": [
    {
     "data": {
      "text/plain": [
       "(2*X2*Y1*a1*a3 - 2*X1*Y2*a1*a3 - Y2*Z1*a3^2 + Y1*Z2*a3^2 + X2*Z1*a3*a4 - X1*Z2*a3*a4 - 3*X2*Z1*a1*a6 + 3*X1*Z2*a1*a6 + 2*X2*Y1*a4 - 2*X1*Y2*a4 - 3*Y2*Z1*a6 + 3*Y1*Z2*a6,\n",
       " X2^2*Y1*Z1*a1^2 - X1^2*Y2*Z2*a1^2 - X1*X2^2*Z1*a1*a2 + X1^2*X2*Z2*a1*a2 + X2^2*Z1^2*a2*a3 - X1^2*Z2^2*a2*a3 - X2^2*Z1^2*a1*a4 + X1^2*Z2^2*a1*a4 + 2*X2*Y1*Y2*Z1*a1 - 2*X1*Y1*Y2*Z2*a1 + X2^2*Y1*Z1*a2 - 2*X1*X2*Y2*Z1*a2 + 2*X1*X2*Y1*Z2*a2 - X1^2*Y2*Z2*a2 + 3*X1*X2^2*Z1*a3 - 3*X1^2*X2*Z2*a3 - X2*Y2*Z1^2*a4 + X1*Y1*Z2^2*a4 + 3*X1*X2^2*Y1 - 3*X1^2*X2*Y2 + Y1*Y2^2*Z1 - Y1^2*Y2*Z2)"
      ]
     },
     "execution_count": 12,
     "metadata": {},
     "output_type": "execute_result"
    }
   ],
   "source": [
    "Y3.quo_rem(Z1*Z2)"
   ]
  },
  {
   "cell_type": "code",
   "execution_count": 13,
   "id": "a14d6c10-d879-49f4-903b-72293c6b2d3c",
   "metadata": {},
   "outputs": [
    {
     "data": {
      "text/plain": [
       "X2^2*Y1*Z1*a1^2 - X1^2*Y2*Z2*a1^2 - X1*X2^2*Z1*a1*a2 + X1^2*X2*Z2*a1*a2 + X2^2*Z1^2*a2*a3 - X1^2*Z2^2*a2*a3 - X2^2*Z1^2*a1*a4 + X1^2*Z2^2*a1*a4 + 2*X2*Y1*Y2*Z1*a1 - 2*X1*Y1*Y2*Z2*a1 + X2^2*Y1*Z1*a2 - 2*X1*X2*Y2*Z1*a2 + 2*X1*X2*Y1*Z2*a2 - X1^2*Y2*Z2*a2 + 3*X1*X2^2*Z1*a3 - 3*X1^2*X2*Z2*a3 - X2*Y2*Z1^2*a4 + X1*Y1*Z2^2*a4 + 3*X1*X2^2*Y1 - 3*X1^2*X2*Y2 + Y1*Y2^2*Z1 - Y1^2*Y2*Z2"
      ]
     },
     "execution_count": 13,
     "metadata": {},
     "output_type": "execute_result"
    }
   ],
   "source": [
    "(X2^2*Y1*Z1*a1^2 - X1^2*Y2*Z2*a1^2 - X1*X2^2*Z1*a1*a2 + X1^2*X2*Z2*a1*a2 + X2^2*Z1^2*a2*a3 - X1^2*Z2^2*a2*a3 - X2^2*Z1^2*a1*a4 + X1^2*Z2^2*a1*a4 + 2*X2*Y1*Y2*Z1*a1 - 2*X1*Y1*Y2*Z2*a1 + X2^2*Y1*Z1*a2 - 2*X1*X2*Y2*Z1*a2 + 2*X1*X2*Y1*Z2*a2 - X1^2*Y2*Z2*a2 + 3*X1*X2^2*Z1*a3 - 3*X1^2*X2*Z2*a3 - X2*Y2*Z1^2*a4 + X1*Y1*Z2^2*a4 + 3*X1*X2^2*Y1 - 3*X1^2*X2*Y2 + Y1*Y2^2*Z1 - Y1^2*Y2*Z2).factor()"
   ]
  },
  {
   "cell_type": "code",
   "execution_count": 49,
   "id": "2df42de8-4867-424f-a35e-d486eb0416cf",
   "metadata": {},
   "outputs": [
    {
     "data": {
      "text/plain": [
       "True"
      ]
     },
     "execution_count": 49,
     "metadata": {},
     "output_type": "execute_result"
    }
   ],
   "source": [
    "Y3 in Ideal(X2*Z1, X1Z2,Y1Z2,-Z1*Z2*a3^2 + 2*X2*Y1*a1 - 2*X1*X2*a2 - X2*Z1*a4 - 3*Z1*Z2*a6 + Y1*Y2,X1X2)"
   ]
  },
  {
   "cell_type": "code",
   "execution_count": 38,
   "id": "bb1d2308-1a5e-4a01-ae08-6b5dd7538230",
   "metadata": {},
   "outputs": [
    {
     "data": {
      "text/plain": [
       "[X2*Y1*a1^2 - X1*X2*a1*a2 + X2*Z1*a2*a3 - X2*Z1*a1*a4 + Z1*Z2*a3*a4 - 3*Z1*Z2*a1*a6 + X2*Y1*a2 - 2*X1*Y2*a2 + 3*X1*X2*a3, -X1*Y2*a1^2 + X1*X2*a1*a2 - 2*Y2*Z1*a1*a3 - X1*Z2*a2*a3 + X1*Z2*a1*a4 - Z1*Z2*a3*a4 + 3*Z1*Z2*a1*a6 - X1*Y2*a2 - 3*X1*X2*a3 - 2*Y2*Z1*a4, 2*X2*Z1*a1*a3 + Z1*Z2*a3^2 - 2*X1*Y2*a1 + 2*X1*X2*a2 + 2*X2*Z1*a4 + X1*Z2*a4 + 3*Z1*Z2*a6 - Y1*Y2, Y2*Z1, 2*Y2*Z1*a2 + 3*X2*Y1 - 3*X1*Y2]"
      ]
     },
     "execution_count": 38,
     "metadata": {},
     "output_type": "execute_result"
    }
   ],
   "source": [
    "Y3.lift( Ideal(X2*Z1, X1Z2,Y1Z2,-Z1*Z2*a3^2 + 2*X2*Y1*a1 - 2*X1*X2*a2 - X2*Z1*a4 - 3*Z1*Z2*a6 + Y1*Y2,X1X2))"
   ]
  },
  {
   "cell_type": "code",
   "execution_count": 39,
   "id": "14d33830-b1f4-411f-9e4d-fbd2e50559e4",
   "metadata": {},
   "outputs": [
    {
     "data": {
      "text/plain": [
       "X2*Y1*a1^2 - X1*X2*a1*a2 + X2*Z1*a2*a3 - X2*Z1*a1*a4 + Z1*Z2*a3*a4 - 3*Z1*Z2*a1*a6 + X2*Y1*a2 - 2*X1*Y2*a2 + 3*X1*X2*a3"
      ]
     },
     "execution_count": 39,
     "metadata": {},
     "output_type": "execute_result"
    }
   ],
   "source": [
    "X2*Y1*a1^2 - X1*X2*a1*a2 + X2*Z1*a2*a3 - X2*Z1*a1*a4 + Z1*Z2*a3*a4 - 3*Z1*Z2*a1*a6 + X2*Y1*a2 - 2*X1*Y2*a2 + 3*X1*X2*a3"
   ]
  },
  {
   "cell_type": "code",
   "execution_count": 40,
   "id": "a303df60-5590-4cf4-a398-1bd2c5e2ee52",
   "metadata": {},
   "outputs": [
    {
     "data": {
      "text/plain": [
       "-X1*Y2*a1^2 + X1*X2*a1*a2 - 2*Y2*Z1*a1*a3 - X1*Z2*a2*a3 + X1*Z2*a1*a4 - Z1*Z2*a3*a4 + 3*Z1*Z2*a1*a6 - X1*Y2*a2 - 3*X1*X2*a3 - 2*Y2*Z1*a4"
      ]
     },
     "execution_count": 40,
     "metadata": {},
     "output_type": "execute_result"
    }
   ],
   "source": [
    "-X1*Y2*a1^2 + X1*X2*a1*a2 - 2*Y2*Z1*a1*a3 - X1*Z2*a2*a3 + X1*Z2*a1*a4 - Z1*Z2*a3*a4 + 3*Z1*Z2*a1*a6 - X1*Y2*a2 - 3*X1*X2*a3 - 2*Y2*Z1*a4"
   ]
  },
  {
   "cell_type": "code",
   "execution_count": 41,
   "id": "661d5b8c-cfef-49c5-9f77-e98735e2c4d5",
   "metadata": {},
   "outputs": [
    {
     "data": {
      "text/plain": [
       "(2*X2*Z1*a1*a3 + Z1*Z2*a3^2 - 2*X1*Y2*a1 + 2*X1*X2*a2 + 2*X2*Z1*a4 + X1*Z2*a4 + 3*Z1*Z2*a6 - Y1*Y2,\n",
       " Y2*Z1)"
      ]
     },
     "execution_count": 41,
     "metadata": {},
     "output_type": "execute_result"
    }
   ],
   "source": [
    " 2*X2*Z1*a1*a3 + Z1*Z2*a3^2 - 2*X1*Y2*a1 + 2*X1*X2*a2 + 2*X2*Z1*a4 + X1*Z2*a4 + 3*Z1*Z2*a6 - Y1*Y2, Y2*Z1"
   ]
  },
  {
   "cell_type": "code",
   "execution_count": 48,
   "id": "3a1c9ff3-6d98-44d8-9e2b-6de6c0ebc52f",
   "metadata": {},
   "outputs": [
    {
     "data": {
      "text/plain": [
       "Y2*Z1"
      ]
     },
     "execution_count": 48,
     "metadata": {},
     "output_type": "execute_result"
    }
   ],
   "source": [
    "Y2*Z1"
   ]
  },
  {
   "cell_type": "code",
   "execution_count": 42,
   "id": "f0c8d59a-3438-41c2-bbf9-014f51ee7af4",
   "metadata": {},
   "outputs": [
    {
     "data": {
      "text/plain": [
       "(Y2*Z1, 2*Y2*Z1*a2 + 3*X2*Y1 - 3*X1*Y2)"
      ]
     },
     "execution_count": 42,
     "metadata": {},
     "output_type": "execute_result"
    }
   ],
   "source": [
    " 2*Y2*Z1*a2 + 3*X2*Y1 - 3*X1*Y2"
   ]
  },
  {
   "cell_type": "code",
   "execution_count": null,
   "id": "00d82968-2953-442d-83ab-0cad317c9c87",
   "metadata": {},
   "outputs": [],
   "source": []
  },
  {
   "cell_type": "code",
   "execution_count": 28,
   "id": "ac9aba9f-e9a1-4717-9b1e-276d9bff7fd6",
   "metadata": {},
   "outputs": [
    {
     "data": {
      "text/plain": [
       "X2*Y1*a1^2 - X1*X2*a1*a2 + X2*Z1*a2*a3 - X2*Z1*a1*a4 + Z1*Z2*a3*a4 - 3*Z1*Z2*a1*a6 + X2*Y1*a2 + 3*X1*X2*a3"
      ]
     },
     "execution_count": 28,
     "metadata": {},
     "output_type": "execute_result"
    }
   ],
   "source": [
    "X2*Y1*a1^2 - X1*X2*a1*a2 + X2*Z1*a2*a3 - X2*Z1*a1*a4 + Z1*Z2*a3*a4 - 3*Z1*Z2*a1*a6 + X2*Y1*a2 + 3*X1*X2*a3"
   ]
  },
  {
   "cell_type": "code",
   "execution_count": 29,
   "id": "85e33f08-643f-46b9-a750-574064633360",
   "metadata": {},
   "outputs": [
    {
     "data": {
      "text/plain": [
       "-X1*Y2*a1^2 + X1*X2*a1*a2 - 2*Y2*Z1*a1*a3 - X1*Z2*a2*a3 + X1*Z2*a1*a4 - Z1*Z2*a3*a4 + 3*Z1*Z2*a1*a6 - X1*Y2*a2 - 3*X1*X2*a3 - 2*Y2*Z1*a4"
      ]
     },
     "execution_count": 29,
     "metadata": {},
     "output_type": "execute_result"
    }
   ],
   "source": [
    " -X1*Y2*a1^2 + X1*X2*a1*a2 - 2*Y2*Z1*a1*a3 - X1*Z2*a2*a3 + X1*Z2*a1*a4 - Z1*Z2*a3*a4 + 3*Z1*Z2*a1*a6 - X1*Y2*a2 - 3*X1*X2*a3 - 2*Y2*Z1*a4"
   ]
  },
  {
   "cell_type": "code",
   "execution_count": 30,
   "id": "d03e3960-a6b4-42c4-84d1-ac902a43d649",
   "metadata": {},
   "outputs": [
    {
     "data": {
      "text/plain": [
       "2*X2*Z1*a1*a3 + Z1*Z2*a3^2 - 2*X1*Y2*a1 + 2*X1*X2*a2 + 2*X2*Z1*a4 + X1*Z2*a4 + 3*Z1*Z2*a6 - Y1*Y2"
      ]
     },
     "execution_count": 30,
     "metadata": {},
     "output_type": "execute_result"
    }
   ],
   "source": [
    "2*X2*Z1*a1*a3 + Z1*Z2*a3^2 - 2*X1*Y2*a1 + 2*X1*X2*a2 + 2*X2*Z1*a4 + X1*Z2*a4 + 3*Z1*Z2*a6 - Y1*Y2"
   ]
  },
  {
   "cell_type": "code",
   "execution_count": 35,
   "id": "7547cb6d-e0f2-401d-b159-f07ddc68dd26",
   "metadata": {},
   "outputs": [
    {
     "data": {
      "text/plain": [
       "-Z1*Z2*a3^2 + 2*X2*Y1*a1 - 2*X1*X2*a2 - X2*Z1*a4 - 3*Z1*Z2*a6 + Y1*Y2"
      ]
     },
     "execution_count": 35,
     "metadata": {},
     "output_type": "execute_result"
    }
   ],
   "source": [
    "-Z1*Z2*a3^2 + 2*X2*Y1*a1 - 2*X1*X2*a2 - X2*Z1*a4 - 3*Z1*Z2*a6 + Y1*Y2"
   ]
  },
  {
   "cell_type": "code",
   "execution_count": 32,
   "id": "d02c6483-a44b-4da4-94c6-97b9f82b6245",
   "metadata": {},
   "outputs": [
    {
     "data": {
      "text/plain": [
       "3*X1*X2"
      ]
     },
     "execution_count": 32,
     "metadata": {},
     "output_type": "execute_result"
    }
   ],
   "source": [
    " 3*X1*X2"
   ]
  },
  {
   "cell_type": "code",
   "execution_count": 33,
   "id": "7be76686-9dbb-45f3-a986-66652b19f323",
   "metadata": {},
   "outputs": [
    {
     "data": {
      "text/plain": [
       "-3*X1*X2"
      ]
     },
     "execution_count": 33,
     "metadata": {},
     "output_type": "execute_result"
    }
   ],
   "source": [
    "-3*X1*X2"
   ]
  },
  {
   "cell_type": "code",
   "execution_count": 157,
   "id": "c9238ef7-a1cd-4e62-83ce-4a8ae81b58ef",
   "metadata": {},
   "outputs": [],
   "source": [
    "X1X2 = X1*X2\n",
    "X1Y2 = X1*Y2 \n",
    "X1Z2 = X1*Z2\n",
    "\n",
    "X2Y1 = X2*Y1\n",
    "X2Z1 = X2*Z1\n",
    "\n",
    "Y1Z2 = Y1*Z2\n",
    "Y1Y2 = Y1*Y2\n",
    "\n",
    "Y2Z1 = Y2*Z1\n",
    "\n",
    "Z1Z2 = Z1*Z2\n",
    "\n",
    "\n",
    "a12 = a1*a1\n",
    "a13 = a1*a12\n",
    "a1a2 = a1*a2\n",
    "a1a3 = a1*a3\n",
    "a1a4 = a1*a4\n",
    "a1a6 = a1*a6\n",
    "\n",
    "\n",
    "a22 = a2*a2\n",
    "a2a3 = a2*a3\n",
    "a2a4 = a2*a4 \n",
    "a2a6 = a2*a6\n",
    "\n",
    "a32 = a3*a3\n",
    "a33 = a3*a32\n",
    "a34 = a3*a33\n",
    "a3a4 = a3*a4\n",
    "a3a6 = a3*a6\n",
    "\n",
    "a42 = a4*a4\n",
    "a43 = a4*a42\n",
    "a4a6 = a4*a6\n",
    "\n",
    "a62 = a6*a6\n",
    "\n",
    "X3 = Y1Y2 * (X1Y2 + X2Y1) + a1 * (2*X1Y2 + X2Y1) * X2Y1 + a12*X1X2*X2Y1\\\n",
    "- a2*X1X2 * (X1Y2 + X2Y1) - a1a2 * X1X2 * X1X2 + a3 * X2Y1 *(Y1Z2 + 2*Y2Z1)\\\n",
    "+ a1a3 * X1X2 * (Y1Z2 - Y2Z1) - a1a3 *(X1Y2 + X2Y1) * (X1Z2 - X2Z1)\\\n",
    "- a4 * X1X2 * (Y1Z2 + Y2Z1) - a4 * (X1Y2 + X2Y1) * (X1Z2 + X2Z1)\\\n",
    "- a12*a3 * X1X2 * X1Z2 - a1a4 * X1X2 * (2*X1Z2 + X2Z1)\\\n",
    "- a2a3 * X1X2 * X2Z1 - a32*X1Z2 * (2*Y2Z1 + Y1Z2)\\\n",
    "- 3* a6 * (X1Y2 + X2Y1) * Z1Z2\\\n",
    "- 3*a6 * (X1Z2 + X2Z1) * (Y1Z2 + Y2Z1) - a1*a32 * X1Z2 * (X1Z2 + 2*X2Z1)\\\n",
    "- 3*a1a6*X1Z2 * (X1Z2 + 2*X2Z1) + a3a4 * (-2*X1Z2 - X2Z1) * X2Z1\\\n",
    "- (a12*a6 - a1a3*a4 + a2*a32 + 4 * a2a6 - a42) * (Y1Z2 + Y2Z1) * Z1Z2\\\n",
    "- (a12*a1a6 - a12*a3a4 + a1a2*a32 + 4*a1a2*a6 - a1*a42) *X1Z2*Z1Z2\\\n",
    "- a33* (X1Z2 + X2Z1) * Z1Z2 - 3 * a3a6 * (X1Z2 + 2*X2Z1)*Z1Z2\\\n",
    "- (a1a3*a1a6 - a1a3*a3a4 + a2a3*a32 + 4*a2a3*a6 - a3*a42) * Z1Z2 * Z1Z2\n",
    "\n",
    "Y3 = Y1Y2 * Y1Y2 + a1 * X2Y1* Y1Y2 + (a1a2 - 3*a3) * X1X2* X2Y1 \\\n",
    "+ a3 * Y1Y2 * Y1Z2 - (a22 - 3*a4) * X1X2 * X1X2 \\\n",
    "+ (a1a4 - a2a3) * (2 * X1Z2 + X2Z1) * X2Y1 \\\n",
    "+ (a1*a1a4 - 2*a1a2*a3 + 3*a32) * X1X2 * X1Z2 \\\n",
    "- (a2a4 - 9*a6) * X1X2 * (X1Z2 + X2Z1) \\\n",
    "+ (3*a1a6 - a3a4) * (X1Z2 + 2*X2Z1) * Y1Z2 \\\n",
    "+ (3*a1*a1a6 - 2*a1a3*a4 + a2*a32 + 3*a2a6 - a42) * X1Z2 * (X1Z2 + 2*X2Z1) \\\n",
    "- (3*a2a6 - a42) * (-2*X1Z2 - X2Z1) * X2Z1 \\\n",
    "+ (a13 * a6 - a12*a3a4 + a1a2*a32 - a1*a42 + 4*a1a2*a6 - a3*a32 - 3*a3a6) * Y1Z2 * Z1Z2 \\\n",
    "+ (a12*a12*a6 - a13 * a3a4 + 5*a12*a2a6 + a12*a2*a32 - a1a2*a3a4 - a1*a33 - 3*a1a3*a6\\\n",
    "-a12*a42 + a22*a32 - a2*a42 + 4*a22*a6 - a32*a4 - 3*a4a6) * X1Z2*Z1Z2 \\\n",
    "+ (a12*a2a6 - a1a2*a3a4 + 3*a1a3*a6 + a22*a32 - a2*a42 \\\n",
    "+ 4*a22*a6 - 2*a32*a4 - 3*a4a6) * X2Z1*Z1Z2 \\\n",
    "+ (a1*a1a3*a1a6 - a12*a32*a4 + a12*a4a6 + a1a2*a33 \\\n",
    "+ 4*a1a6*a2a3 - 2*a1a3*a42 + a2a3*a3a4 \\\n",
    "+ 4*a2*a4a6 - a34 - 6*a32*a6 - a43 - 9*a62) *Z1Z2 * Z1Z2\\\n",
    "\n",
    "\n",
    "Z3 = 3 * X1X2 * (X1Y2 + X2Y1) + Y1Y2 * (Y1Z2 + Y2Z1) + 3*a1*X1X2*X1X2 \\\n",
    "+ a1 * (2 * X1Y2 + X2Y1) * Y1Z2 + a12 * X1Z2 *(2*X2Y1 + X1Y2) \\\n",
    "+ a2 * X1X2 * (Y1Z2 + Y2Z1) \\\n",
    "+ a2 * (X1Y2 + X2Y1) * (X1Z2 + X2Z1) \\\n",
    "+ a13 * X1X2 * X1Z2 + a1a2 * X1X2 * (2*X1Z2 + X2Z1) \\\n",
    "+ 3*a3 * X1X2 * X2Z1 + a3 * Y1Z2 * (Y1Z2 + 2*Y2Z1) \\\n",
    "+ 2*a1a3 * X1Z2 * (Y1Z2 + Y2Z1) \\\n",
    "+ 2*a1a3*X2Y1*Z1Z2 + a4*(X1Y2 + X2Y1)* Z1Z2 \\\n",
    "+ a4* (X1Z2 + X2Z1) * (Y1Z2 + Y2Z1) \\\n",
    "+ (a12*a3 + a1a4) * X1Z2 * (X1Z2 + 2*X2Z1) + a2a3 * X2Z1 * (2*X1Z2 + X2Z1) \\\n",
    "+ a32 * Y1Z2*Z1Z2 + (a32 + 3*a6) * (Y1Z2 + Y2Z1) * Z1Z2 \\\n",
    "+ a1 * a32 * (2*X1Z2 + X2Z1) * Z1Z2 + 3*a1a6*X1Z2 * Z1Z2 \\\n",
    "+ a3a4 * (X1Z2 + 2*X2Z1) * Z1Z2 + (a33 + 3*a3a6) *Z1Z2*Z1Z2"
   ]
  },
  {
   "cell_type": "code",
   "execution_count": 62,
   "id": "e300e4b6-1ce4-470f-abbe-7b2d902a1ffb",
   "metadata": {},
   "outputs": [],
   "source": [
    "g1 = X2*(a1*X1+a3*Z1+Y1)+X1Y2\n",
    "g2 = Z2*(a1*X1+a3*Z1+Y1)+Z1*Y2"
   ]
  },
  {
   "cell_type": "code",
   "execution_count": 160,
   "id": "446bb8ea-3e7a-4f0e-bc58-b5e27e2a3d85",
   "metadata": {},
   "outputs": [
    {
     "data": {
      "text/plain": [
       "True"
      ]
     },
     "execution_count": 160,
     "metadata": {},
     "output_type": "execute_result"
    }
   ],
   "source": [
    "X3 in Ideal(g1,g2)"
   ]
  },
  {
   "cell_type": "code",
   "execution_count": 59,
   "id": "6e2617cd-a2c6-4195-b580-9d7bf971b180",
   "metadata": {},
   "outputs": [
    {
     "data": {
      "text/plain": [
       "-X2^2*Y1*Z1*a1 + X1^2*Y2*Z2*a1 + X1*X2^2*Z1*a2 - X1^2*X2*Z2*a2 - X2*Y2*Z1^2*a3 - 2*X2*Y1*Z1*Z2*a3 + 2*X1*Y2*Z1*Z2*a3 + X1*Y1*Z2^2*a3 + X2^2*Z1^2*a4 - X1^2*Z2^2*a4 + 3*X2*Z1^2*Z2*a6 - 3*X1*Z1*Z2^2*a6 - 2*X2*Y1*Y2*Z1 + X1*Y2^2*Z1 - X2*Y1^2*Z2 + 2*X1*Y1*Y2*Z2"
      ]
     },
     "execution_count": 59,
     "metadata": {},
     "output_type": "execute_result"
    }
   ],
   "source": [
    "X3"
   ]
  },
  {
   "cell_type": "code",
   "execution_count": 64,
   "id": "0f94327c-aa20-407a-92d5-ecfdfd7d1912",
   "metadata": {},
   "outputs": [
    {
     "data": {
      "text/plain": [
       "[X2*Y1*a1 - X1*X2*a2 + Y2*Z1*a3 + Y1*Z2*a3 - X2*Z1*a4 - X1*Z2*a4 - 3*Z1*Z2*a6 + Y1*Y2, -Z1*Z2*a2*a3^2 + Z1*Z2*a1*a3*a4 - Z1*Z2*a1^2*a6 - X1*X2*a1*a3 - X2*Z1*a3^2 - X1*Z2*a3^2 + Z1*Z2*a4^2 - 4*Z1*Z2*a2*a6 - X1*Y2*a3 - X1*X2*a4 - 3*X2*Z1*a6 - 3*X1*Z2*a6]"
      ]
     },
     "execution_count": 64,
     "metadata": {},
     "output_type": "execute_result"
    }
   ],
   "source": [
    "X3.lift(Ideal(g1,g2))"
   ]
  },
  {
   "cell_type": "code",
   "execution_count": 65,
   "id": "0adda4e0-c572-4ecf-b259-b6f14989b5d0",
   "metadata": {},
   "outputs": [
    {
     "data": {
      "text/plain": [
       "True"
      ]
     },
     "execution_count": 65,
     "metadata": {},
     "output_type": "execute_result"
    }
   ],
   "source": [
    "(X2*Y1*a1 - X1*X2*a2 + Y2*Z1*a3 + Y1*Z2*a3 - X2*Z1*a4 - X1*Z2*a4 - 3*Z1*Z2*a6 + Y1*Y2)*g1 + (-Z1*Z2*a2*a3^2 + Z1*Z2*a1*a3*a4 - Z1*Z2*a1^2*a6 - X1*X2*a1*a3 - X2*Z1*a3^2 - X1*Z2*a3^2 + Z1*Z2*a4^2 - 4*Z1*Z2*a2*a6 - X1*Y2*a3 - X1*X2*a4 - 3*X2*Z1*a6 - 3*X1*Z2*a6)*g2 == X3"
   ]
  },
  {
   "cell_type": "code",
   "execution_count": 66,
   "id": "4c2f337f-4620-4c50-b678-250a947dfed8",
   "metadata": {},
   "outputs": [
    {
     "data": {
      "text/plain": [
       "True"
      ]
     },
     "execution_count": 66,
     "metadata": {},
     "output_type": "execute_result"
    }
   ],
   "source": [
    "Z3 in Ideal(g1,g2)"
   ]
  },
  {
   "cell_type": "code",
   "execution_count": 68,
   "id": "5d576b02-acaa-42cd-be5e-de6ca36b6213",
   "metadata": {},
   "outputs": [],
   "source": [
    "HZ = Z3.lift(Ideal(g1,g2))"
   ]
  },
  {
   "cell_type": "code",
   "execution_count": 69,
   "id": "6562e76b-8f3a-4919-8f4a-deecfbbe2819",
   "metadata": {},
   "outputs": [
    {
     "data": {
      "text/plain": [
       "True"
      ]
     },
     "execution_count": 69,
     "metadata": {},
     "output_type": "execute_result"
    }
   ],
   "source": [
    "HZ[0]*g1 + HZ[1]*g2 == Z3"
   ]
  },
  {
   "cell_type": "code",
   "execution_count": 162,
   "id": "ddf61220-f48e-4412-b95d-84d69ff86f9d",
   "metadata": {},
   "outputs": [
    {
     "data": {
      "text/plain": [
       "True"
      ]
     },
     "execution_count": 162,
     "metadata": {},
     "output_type": "execute_result"
    }
   ],
   "source": [
    "(X1Y2 + X2Y1 )*Z1 + (X1Z2 - X2Z1)*Y1 == (Y1Z2+Y2Z1)*X1"
   ]
  },
  {
   "cell_type": "code",
   "execution_count": 163,
   "id": "b1b061c7-7d22-4925-9b0f-d23b24b6a00d",
   "metadata": {},
   "outputs": [
    {
     "data": {
      "text/plain": [
       "True"
      ]
     },
     "execution_count": 163,
     "metadata": {},
     "output_type": "execute_result"
    }
   ],
   "source": [
    "(X1Y2 + X2Y1 )*Z2 + (X1Z2 - X2Z1)*-Y2 == (Y1Z2+Y2Z1)*X2"
   ]
  },
  {
   "cell_type": "code",
   "execution_count": null,
   "id": "746dec00-210b-4860-bd6c-3480ef1f85ac",
   "metadata": {},
   "outputs": [],
   "source": []
  }
 ],
 "metadata": {
  "kernelspec": {
   "display_name": "SageMath 10.1",
   "language": "sage",
   "name": "sagemath-dev"
  },
  "language_info": {
   "codemirror_mode": {
    "name": "ipython",
    "version": 3
   },
   "file_extension": ".py",
   "mimetype": "text/x-python",
   "name": "python",
   "nbconvert_exporter": "python",
   "pygments_lexer": "ipython3",
   "version": "3.11.8"
  }
 },
 "nbformat": 4,
 "nbformat_minor": 5
}
