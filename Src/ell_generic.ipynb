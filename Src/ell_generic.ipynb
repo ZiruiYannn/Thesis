{
 "cells": [
  {
   "cell_type": "code",
   "execution_count": null,
   "id": "4118d5e3-e5f5-4371-b2e3-b9ce4d38cad6",
   "metadata": {},
   "outputs": [],
   "source": [
    "#questions:\n",
    "\n",
    "In _equation_string, do we need to change the representation?\n",
    "\n",
    "Move __contain__ from EC_generic to EC_field?"
   ]
  }
 ],
 "metadata": {
  "kernelspec": {
   "display_name": "SageMath 10.1",
   "language": "sage",
   "name": "sagemath-dev"
  },
  "language_info": {
   "codemirror_mode": {
    "name": "ipython",
    "version": 3
   },
   "file_extension": ".py",
   "mimetype": "text/x-python",
   "name": "python",
   "nbconvert_exporter": "python",
   "pygments_lexer": "ipython3",
   "version": "3.11.8"
  }
 },
 "nbformat": 4,
 "nbformat_minor": 5
}
