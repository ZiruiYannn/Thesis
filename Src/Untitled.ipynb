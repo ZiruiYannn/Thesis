{
 "cells": [
  {
   "cell_type": "code",
   "execution_count": 1,
   "id": "b09b06b9-901e-4fe8-8998-131927bbf544",
   "metadata": {},
   "outputs": [],
   "source": [
    "load(\"try.sage\")"
   ]
  },
  {
   "cell_type": "code",
   "execution_count": 2,
   "id": "1845b090-3129-4e0b-a181-5da1c2ec8d85",
   "metadata": {},
   "outputs": [
    {
     "data": {
      "text/plain": [
       "10"
      ]
     },
     "execution_count": 2,
     "metadata": {},
     "output_type": "execute_result"
    }
   ],
   "source": [
    "a"
   ]
  },
  {
   "cell_type": "code",
   "execution_count": 3,
   "id": "401c154e-81a5-4065-b501-2c5a9631f7d6",
   "metadata": {},
   "outputs": [],
   "source": [
    "R.<x,z,a1,a2,a3,a4,a6> = PolynomialRing(QQ,7,order=TermOrder('negwdegrevlex',(500,500,1,1,1,1,1)))"
   ]
  },
  {
   "cell_type": "code",
   "execution_count": 4,
   "id": "8e481752-6e14-4393-af63-1889dd5767a8",
   "metadata": {},
   "outputs": [
    {
     "data": {
      "text/plain": [
       "-x*z^2*a1 - z^3*a3 + x^3*z + x^2*z^2*a2 + x*z^3*a4 + z^4*a6"
      ]
     },
     "execution_count": 4,
     "metadata": {},
     "output_type": "execute_result"
    }
   ],
   "source": [
    "fz = R( -( a1*x*z^2 + a3*z^3) + x^3*z + a2*x^2*z^2 + a4*x*z^3 +a6 *z^4)\n",
    "fz"
   ]
  },
  {
   "cell_type": "code",
   "execution_count": null,
   "id": "f7771ee5-1d29-4ecf-8329-8bbd4f13afee",
   "metadata": {},
   "outputs": [],
   "source": [
    "for i in range(10):\n",
    "    fz = fz.substitute(z=fz)"
   ]
  },
  {
   "cell_type": "code",
   "execution_count": null,
   "id": "1f544e44-8dcc-455d-9bc7-d6482c34f54a",
   "metadata": {},
   "outputs": [],
   "source": []
  },
  {
   "cell_type": "code",
   "execution_count": null,
   "id": "101b3bf2-edd0-4a8e-9ee2-2f293406d3df",
   "metadata": {},
   "outputs": [],
   "source": []
  }
 ],
 "metadata": {
  "kernelspec": {
   "display_name": "SageMath 10.1",
   "language": "sage",
   "name": "sagemath-dev"
  },
  "language_info": {
   "codemirror_mode": {
    "name": "ipython",
    "version": 3
   },
   "file_extension": ".py",
   "mimetype": "text/x-python",
   "name": "python",
   "nbconvert_exporter": "python",
   "pygments_lexer": "ipython3",
   "version": "3.11.8"
  }
 },
 "nbformat": 4,
 "nbformat_minor": 5
}
