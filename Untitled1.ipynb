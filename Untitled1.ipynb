{
 "cells": [
  {
   "cell_type": "code",
   "execution_count": 1,
   "id": "39af4fc3-5fe3-4285-bdd0-0793a46e9131",
   "metadata": {},
   "outputs": [
    {
     "data": {
      "text/plain": [
       "[(14,)]"
      ]
     },
     "execution_count": 1,
     "metadata": {},
     "output_type": "execute_result"
    }
   ],
   "source": [
    "var('z')\n",
    "solve_mod([z^2 == 1, 4*z  == 11], 15)"
   ]
  },
  {
   "cell_type": "code",
   "execution_count": 2,
   "id": "f7cb5ca1-dfcf-4e48-9012-29c82b251bca",
   "metadata": {},
   "outputs": [],
   "source": [
    "from sage.structure.unique_representation import UniqueRepresentation\n",
    "class MyFrac(UniqueRepresentation, Field):\n",
    "    def __init__(self, base):\n",
    "        if base not in IntegralDomains():\n",
    "            raise ValueError(\"%s is no integral domain\" % base)\n",
    "        Field.__init__(self, base)\n",
    "    def _repr_(self):\n",
    "        return \"NewFrac(%s)\"%repr(self.base())\n",
    "    def base_ring(self):\n",
    "        return self.base().base_ring()\n",
    "    def characteristic(self):\n",
    "        return self.base().characteristic()"
   ]
  },
  {
   "cell_type": "code",
   "execution_count": 3,
   "id": "ad610d0b-6f35-4598-b01c-2a11244d5c16",
   "metadata": {},
   "outputs": [],
   "source": [
    "FF=MyFrac(ZZ['x'])"
   ]
  },
  {
   "cell_type": "code",
   "execution_count": 4,
   "id": "021d0f77-4c9c-4913-8334-076a7aec0698",
   "metadata": {},
   "outputs": [
    {
     "data": {
      "text/plain": [
       "NewFrac(Univariate Polynomial Ring in x over Integer Ring)"
      ]
     },
     "execution_count": 4,
     "metadata": {},
     "output_type": "execute_result"
    }
   ],
   "source": [
    "FF"
   ]
  },
  {
   "cell_type": "code",
   "execution_count": 5,
   "id": "87a0c38b-916a-4540-b536-e7c011a7b1ad",
   "metadata": {},
   "outputs": [
    {
     "data": {
      "text/plain": [
       "Integer Ring"
      ]
     },
     "execution_count": 5,
     "metadata": {},
     "output_type": "execute_result"
    }
   ],
   "source": [
    "FF.base_ring()"
   ]
  },
  {
   "cell_type": "code",
   "execution_count": 6,
   "id": "d401f033-6da6-4db2-8352-884ae7ac9ece",
   "metadata": {},
   "outputs": [
    {
     "data": {
      "text/plain": [
       "Integer Ring"
      ]
     },
     "execution_count": 6,
     "metadata": {},
     "output_type": "execute_result"
    }
   ],
   "source": [
    "ZZ['x'].base()"
   ]
  },
  {
   "cell_type": "code",
   "execution_count": 7,
   "id": "b9baa89c-5f8e-4fba-b24c-a7cda482a4cf",
   "metadata": {},
   "outputs": [
    {
     "data": {
      "text/plain": [
       "Integer Ring"
      ]
     },
     "execution_count": 7,
     "metadata": {},
     "output_type": "execute_result"
    }
   ],
   "source": [
    "ZZ['x'].base_ring()"
   ]
  },
  {
   "cell_type": "code",
   "execution_count": 8,
   "id": "f5216739-3417-4882-b571-8640fb181e1d",
   "metadata": {},
   "outputs": [],
   "source": [
    "class MyElement(FieldElement):\n",
    "    def __init__(self, parent,n,d=None):\n",
    "        B = parent.base()\n",
    "        if d is None:\n",
    "            d = B.one()\n",
    "        if n not in B or d not in B:\n",
    "            raise ValueError(\"Numerator and denominator must be elements of %s\"%B)\n",
    "        # Numerator and denominator should not just be \"in\" B,\n",
    "        # but should be defined as elements of B\n",
    "        d = B(d)\n",
    "        n = B(n)\n",
    "        if d==0:\n",
    "            raise ZeroDivisionError(\"The denominator must not be zero\")\n",
    "        if d<0:\n",
    "            self.n = -n\n",
    "            self.d = -d\n",
    "        else:\n",
    "            self.n = n\n",
    "            self.d = d\n",
    "        FieldElement.__init__(self,parent)\n",
    "    def numerator(self):\n",
    "        return self.n\n",
    "    def denominator(self):\n",
    "        return self.d\n",
    "    def _repr_(self):\n",
    "        return \"%s/%s\"%(self.n,self.d)\n",
    "    def _richcmp_(self, other, op):\n",
    "        from sage.structure.richcmp import richcmp\n",
    "        return richcmp(self.n*other.denominator(), other.numerator()*self.d, op)\n",
    "    def _add_(self, other):\n",
    "        C = self.__class__\n",
    "        D = self.d*other.denominator()\n",
    "        return C(self.parent(), self.n*other.denominator()+self.d*other.numerator(), D)\n",
    "    def _sub_(self, other):\n",
    "        C = self.__class__\n",
    "        D = self.d*other.denominator()\n",
    "        return C(self.parent(), self.n*other.denominator()-self.d*other.numerator(),D)\n",
    "    def _mul_(self, other):\n",
    "        C = self.__class__\n",
    "        return C(self.parent(), self.n*other.numerator(), self.d*other.denominator())\n",
    "    def _div_(self, other):\n",
    "        C = self.__class__\n",
    "        return C(self.parent(), self.n*other.denominator(), self.d*other.numerator())"
   ]
  },
  {
   "cell_type": "code",
   "execution_count": 9,
   "id": "daf94400-1726-4dbd-9a73-0596c6d627d0",
   "metadata": {},
   "outputs": [],
   "source": [
    "P = MyFrac(ZZ)\n",
    "a = MyElement(P, 3, 4)\n",
    "b = MyElement(P, 1, 2)"
   ]
  },
  {
   "cell_type": "code",
   "execution_count": 10,
   "id": "5e08eb08-4bad-4c68-8900-42d7af62f57c",
   "metadata": {},
   "outputs": [
    {
     "data": {
      "text/plain": [
       "(10/8, 2/8, 3/8, 6/4)"
      ]
     },
     "execution_count": 10,
     "metadata": {},
     "output_type": "execute_result"
    }
   ],
   "source": [
    "a+b, a-b, a*b, a/b"
   ]
  },
  {
   "cell_type": "code",
   "execution_count": 11,
   "id": "8691f03f-2990-4864-a43c-5d2729e8848d",
   "metadata": {},
   "outputs": [
    {
     "data": {
      "text/plain": [
       "True"
      ]
     },
     "execution_count": 11,
     "metadata": {},
     "output_type": "execute_result"
    }
   ],
   "source": [
    "a-b == MyElement(P, 1, 4)"
   ]
  },
  {
   "cell_type": "code",
   "execution_count": 12,
   "id": "d5d34e43-24f5-4e98-ae70-e00f5029c85c",
   "metadata": {},
   "outputs": [],
   "source": [
    "class MyFrac(MyFrac):\n",
    "    Element = MyElement"
   ]
  },
  {
   "cell_type": "code",
   "execution_count": 13,
   "id": "1a9a2c6e-c24b-45d5-a660-ae65d94909f4",
   "metadata": {},
   "outputs": [
    {
     "data": {
      "text/plain": [
       "(1/1, 2/3)"
      ]
     },
     "execution_count": 13,
     "metadata": {},
     "output_type": "execute_result"
    }
   ],
   "source": [
    "P = MyFrac(ZZ)\n",
    "P(1), P(2,3)"
   ]
  },
  {
   "cell_type": "code",
   "execution_count": 14,
   "id": "6fc3440c-4c88-4eab-b454-53ccda1bce8d",
   "metadata": {},
   "outputs": [
    {
     "data": {
      "text/plain": [
       "0/1"
      ]
     },
     "execution_count": 14,
     "metadata": {},
     "output_type": "execute_result"
    }
   ],
   "source": [
    "P.zero()"
   ]
  },
  {
   "cell_type": "code",
   "execution_count": 2,
   "id": "ead9aade-568b-4ccd-ae35-192ae83aeb12",
   "metadata": {},
   "outputs": [],
   "source": [
    "m = None"
   ]
  },
  {
   "cell_type": "code",
   "execution_count": 4,
   "id": "c0192b98-aebb-484e-b709-239428b36579",
   "metadata": {},
   "outputs": [
    {
     "name": "stdout",
     "output_type": "stream",
     "text": [
      "1\n"
     ]
    }
   ],
   "source": [
    "if m is None:\n",
    "    print(1)"
   ]
  },
  {
   "cell_type": "code",
   "execution_count": 7,
   "id": "01dfdbd9-76bd-4da3-bce6-52909831d109",
   "metadata": {},
   "outputs": [],
   "source": [
    "I = Zmod(25).ideal(5)"
   ]
  },
  {
   "cell_type": "code",
   "execution_count": 12,
   "id": "a52a16e7-7261-4621-bd4b-28212389e704",
   "metadata": {},
   "outputs": [
    {
     "data": {
      "text/plain": [
       "Ring of integers modulo 25"
      ]
     },
     "execution_count": 12,
     "metadata": {},
     "output_type": "execute_result"
    }
   ],
   "source": [
    "I.ring()"
   ]
  },
  {
   "cell_type": "code",
   "execution_count": 13,
   "id": "079100e5-e877-4306-957a-4c7623533054",
   "metadata": {},
   "outputs": [
    {
     "data": {
      "text/plain": [
       "True"
      ]
     },
     "execution_count": 13,
     "metadata": {},
     "output_type": "execute_result"
    }
   ],
   "source": [
    "Zmod(25) is I.ring()"
   ]
  },
  {
   "cell_type": "code",
   "execution_count": 14,
   "id": "32430496-b365-4db7-a542-5dc4e4595b9c",
   "metadata": {},
   "outputs": [
    {
     "data": {
      "text/plain": [
       "(Integer Ring, <class 'int'>)"
      ]
     },
     "execution_count": 14,
     "metadata": {},
     "output_type": "execute_result"
    }
   ],
   "source": [
    "(ZZ, int)"
   ]
  },
  {
   "cell_type": "code",
   "execution_count": 15,
   "id": "76df4171-fc5e-401b-9fdd-797b03bd6bb3",
   "metadata": {},
   "outputs": [
    {
     "data": {
      "text/plain": [
       "False"
      ]
     },
     "execution_count": 15,
     "metadata": {},
     "output_type": "execute_result"
    }
   ],
   "source": [
    "Zmod(25) in (ZZ, int)"
   ]
  },
  {
   "cell_type": "code",
   "execution_count": 16,
   "id": "15724ba5-36b5-4354-9885-915a42ab139e",
   "metadata": {},
   "outputs": [
    {
     "data": {
      "text/plain": [
       "<sage.rings.finite_rings.integer_mod_ring.IntegerModFactory object at 0x7f81b8ecf070>"
      ]
     },
     "execution_count": 16,
     "metadata": {},
     "output_type": "execute_result"
    }
   ],
   "source": [
    "(Zmod)"
   ]
  },
  {
   "cell_type": "code",
   "execution_count": 18,
   "id": "8992f709-4112-4c72-89a7-bf00f95df8b7",
   "metadata": {},
   "outputs": [
    {
     "ename": "TypeError",
     "evalue": "argument of type 'IntegerModFactory' is not iterable",
     "output_type": "error",
     "traceback": [
      "\u001b[0;31m---------------------------------------------------------------------------\u001b[0m",
      "\u001b[0;31mTypeError\u001b[0m                                 Traceback (most recent call last)",
      "Cell \u001b[0;32mIn[18], line 1\u001b[0m\n\u001b[0;32m----> 1\u001b[0m \u001b[43mZmod\u001b[49m\u001b[43m(\u001b[49m\u001b[43mInteger\u001b[49m\u001b[43m(\u001b[49m\u001b[38;5;241;43m25\u001b[39;49m\u001b[43m)\u001b[49m\u001b[43m)\u001b[49m\u001b[43m \u001b[49m\u001b[38;5;129;43;01min\u001b[39;49;00m\u001b[43m \u001b[49m\u001b[43m(\u001b[49m\u001b[43mZmod\u001b[49m\u001b[43m)\u001b[49m\n",
      "\u001b[0;31mTypeError\u001b[0m: argument of type 'IntegerModFactory' is not iterable"
     ]
    }
   ],
   "source": [
    "Zmod(25) in (Zmod)"
   ]
  },
  {
   "cell_type": "code",
   "execution_count": 20,
   "id": "497a94bc-b1eb-49f3-835a-7df0bd08fa41",
   "metadata": {},
   "outputs": [
    {
     "data": {
      "text/plain": [
       "<class 'int'>"
      ]
     },
     "execution_count": 20,
     "metadata": {},
     "output_type": "execute_result"
    }
   ],
   "source": [
    "int"
   ]
  },
  {
   "cell_type": "code",
   "execution_count": 21,
   "id": "b0393bc6-973a-42df-bed8-93147cbf7f8f",
   "metadata": {},
   "outputs": [
    {
     "data": {
      "text/plain": [
       "Ring of integers modulo 125"
      ]
     },
     "execution_count": 21,
     "metadata": {},
     "output_type": "execute_result"
    }
   ],
   "source": [
    "Zmod(125)"
   ]
  },
  {
   "cell_type": "code",
   "execution_count": 23,
   "id": "91e66419-8604-484d-90a8-832975017ddf",
   "metadata": {},
   "outputs": [
    {
     "data": {
      "text/plain": [
       "Ring of integers modulo 125"
      ]
     },
     "execution_count": 23,
     "metadata": {},
     "output_type": "execute_result"
    }
   ],
   "source": [
    "Integers(125)"
   ]
  },
  {
   "cell_type": "code",
   "execution_count": 25,
   "id": "6218c09e-5f2a-4790-8973-c9654b6db927",
   "metadata": {},
   "outputs": [
    {
     "data": {
      "text/plain": [
       "False"
      ]
     },
     "execution_count": 25,
     "metadata": {},
     "output_type": "execute_result"
    }
   ],
   "source": [
    "Zmod(25) in (ZZ,Integers)"
   ]
  },
  {
   "cell_type": "code",
   "execution_count": 28,
   "id": "41f5147f-19d5-4591-95cb-559680018229",
   "metadata": {},
   "outputs": [
    {
     "ename": "NameError",
     "evalue": "name 'integer_mod_ring' is not defined",
     "output_type": "error",
     "traceback": [
      "\u001b[0;31m---------------------------------------------------------------------------\u001b[0m",
      "\u001b[0;31mNameError\u001b[0m                                 Traceback (most recent call last)",
      "Cell \u001b[0;32mIn[28], line 1\u001b[0m\n\u001b[0;32m----> 1\u001b[0m \u001b[38;5;28misinstance\u001b[39m(Zmod(Integer(\u001b[38;5;241m25\u001b[39m)),\u001b[43minteger_mod_ring\u001b[49m)\n",
      "\u001b[0;31mNameError\u001b[0m: name 'integer_mod_ring' is not defined"
     ]
    }
   ],
   "source": [
    "from sage.rings.finite_rings.integer_mod_ring import IntegerModRing_generic\n",
    "isinstance(Zmod(25),integer_mod_ring)"
   ]
  },
  {
   "cell_type": "code",
   "execution_count": 27,
   "id": "8f766eb1-1c38-4ce2-b579-eb173fd7be0a",
   "metadata": {},
   "outputs": [
    {
     "data": {
      "text/plain": [
       "<class 'sage.rings.finite_rings.integer_mod_ring.IntegerModRing_generic_with_category'>"
      ]
     },
     "execution_count": 27,
     "metadata": {},
     "output_type": "execute_result"
    }
   ],
   "source": [
    "type(Zmod(25))"
   ]
  },
  {
   "cell_type": "code",
   "execution_count": 29,
   "id": "e50d09e1-e2a9-482b-b17b-1a1d6a467ad5",
   "metadata": {},
   "outputs": [
    {
     "data": {
      "text/plain": [
       "Finite Field in z2 of size 5^2"
      ]
     },
     "execution_count": 29,
     "metadata": {},
     "output_type": "execute_result"
    }
   ],
   "source": [
    "GF(25)"
   ]
  },
  {
   "cell_type": "code",
   "execution_count": 30,
   "id": "0424ac26-1b51-4769-a69f-c500ce54a81a",
   "metadata": {},
   "outputs": [
    {
     "data": {
      "text/plain": [
       "True"
      ]
     },
     "execution_count": 30,
     "metadata": {},
     "output_type": "execute_result"
    }
   ],
   "source": [
    "isinstance(Zmod(25), sage.rings.abc.IntegerModRing)"
   ]
  },
  {
   "cell_type": "code",
   "execution_count": 35,
   "id": "8580819c-9408-401d-bc52-75193503d4c9",
   "metadata": {},
   "outputs": [],
   "source": [
    "a = {1,2,3}"
   ]
  },
  {
   "cell_type": "code",
   "execution_count": 38,
   "id": "41a4dafd-ef3b-464c-a38f-d4376a780eab",
   "metadata": {},
   "outputs": [],
   "source": [
    "b =set(a)"
   ]
  },
  {
   "cell_type": "code",
   "execution_count": 39,
   "id": "ed78f08f-5eb6-4d7c-946a-810f9fe5ee11",
   "metadata": {},
   "outputs": [
    {
     "data": {
      "text/plain": [
       "{1, 2, 3}"
      ]
     },
     "execution_count": 39,
     "metadata": {},
     "output_type": "execute_result"
    }
   ],
   "source": [
    "b"
   ]
  },
  {
   "cell_type": "code",
   "execution_count": 43,
   "id": "b2647dab-6ffe-444e-bc61-44e920ea5e39",
   "metadata": {},
   "outputs": [],
   "source": [
    "c = {5,5,9}"
   ]
  },
  {
   "cell_type": "code",
   "execution_count": 44,
   "id": "1da36249-0339-4eb3-8bcc-6d554b06df3d",
   "metadata": {},
   "outputs": [
    {
     "data": {
      "text/plain": [
       "{5, 9}"
      ]
     },
     "execution_count": 44,
     "metadata": {},
     "output_type": "execute_result"
    }
   ],
   "source": [
    "c"
   ]
  },
  {
   "cell_type": "code",
   "execution_count": 45,
   "id": "0d206232-6c05-4f20-a21c-be04c85ea0ac",
   "metadata": {},
   "outputs": [
    {
     "ename": "TypeError",
     "evalue": "unsupported operand type(s) for +: 'set' and 'set'",
     "output_type": "error",
     "traceback": [
      "\u001b[0;31m---------------------------------------------------------------------------\u001b[0m",
      "\u001b[0;31mTypeError\u001b[0m                                 Traceback (most recent call last)",
      "Cell \u001b[0;32mIn[45], line 1\u001b[0m\n\u001b[0;32m----> 1\u001b[0m \u001b[43mc\u001b[49m\u001b[38;5;241;43m+\u001b[39;49m\u001b[43mb\u001b[49m\n",
      "\u001b[0;31mTypeError\u001b[0m: unsupported operand type(s) for +: 'set' and 'set'"
     ]
    }
   ],
   "source": [
    "c+b"
   ]
  },
  {
   "cell_type": "code",
   "execution_count": 46,
   "id": "10ea0e57-763c-4d28-8098-0a3408d1b50c",
   "metadata": {},
   "outputs": [
    {
     "name": "stderr",
     "output_type": "stream",
     "text": [
      "/tmp/ipykernel_4874/898476210.py:1: DeprecationWarning: sage.misc.misc.union is deprecated, use 'list(set(x).union(y))' or a more suitable replacement\n",
      "See https://github.com/sagemath/sage/issues/32096 for details.\n",
      "  union(c,b)\n"
     ]
    },
    {
     "data": {
      "text/plain": [
       "[1, 2, 3, 5, 9]"
      ]
     },
     "execution_count": 46,
     "metadata": {},
     "output_type": "execute_result"
    }
   ],
   "source": [
    "union(c,b)"
   ]
  },
  {
   "cell_type": "code",
   "execution_count": 47,
   "id": "d1856f06-a0ae-466c-b8fd-9380ce9c1abc",
   "metadata": {},
   "outputs": [
    {
     "data": {
      "text/plain": [
       "{1, 2, 3, 5, 9}"
      ]
     },
     "execution_count": 47,
     "metadata": {},
     "output_type": "execute_result"
    }
   ],
   "source": [
    "c.union(b)"
   ]
  },
  {
   "cell_type": "code",
   "execution_count": null,
   "id": "0e4909e9-6cfd-467d-b1e0-cd43d0ccc481",
   "metadata": {},
   "outputs": [],
   "source": []
  }
 ],
 "metadata": {
  "kernelspec": {
   "display_name": "SageMath 10.3",
   "language": "sage",
   "name": "sagemath"
  },
  "language_info": {
   "codemirror_mode": {
    "name": "ipython",
    "version": 3
   },
   "file_extension": ".py",
   "mimetype": "text/x-python",
   "name": "python",
   "nbconvert_exporter": "python",
   "pygments_lexer": "ipython3",
   "version": "3.11.8"
  }
 },
 "nbformat": 4,
 "nbformat_minor": 5
}
