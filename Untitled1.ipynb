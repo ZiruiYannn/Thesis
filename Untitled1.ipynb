{
 "cells": [
  {
   "cell_type": "code",
   "execution_count": 1,
   "id": "39af4fc3-5fe3-4285-bdd0-0793a46e9131",
   "metadata": {},
   "outputs": [
    {
     "data": {
      "text/plain": [
       "[(14,)]"
      ]
     },
     "execution_count": 1,
     "metadata": {},
     "output_type": "execute_result"
    }
   ],
   "source": [
    "var('z')\n",
    "solve_mod([z^2 == 1, 4*z  == 11], 15)"
   ]
  },
  {
   "cell_type": "code",
   "execution_count": 2,
   "id": "f7cb5ca1-dfcf-4e48-9012-29c82b251bca",
   "metadata": {},
   "outputs": [],
   "source": [
    "from sage.structure.unique_representation import UniqueRepresentation\n",
    "class MyFrac(UniqueRepresentation, Field):\n",
    "    def __init__(self, base):\n",
    "        if base not in IntegralDomains():\n",
    "            raise ValueError(\"%s is no integral domain\" % base)\n",
    "        Field.__init__(self, base)\n",
    "    def _repr_(self):\n",
    "        return \"NewFrac(%s)\"%repr(self.base())\n",
    "    def base_ring(self):\n",
    "        return self.base().base_ring()\n",
    "    def characteristic(self):\n",
    "        return self.base().characteristic()"
   ]
  },
  {
   "cell_type": "code",
   "execution_count": 3,
   "id": "ad610d0b-6f35-4598-b01c-2a11244d5c16",
   "metadata": {},
   "outputs": [],
   "source": [
    "FF=MyFrac(ZZ['x'])"
   ]
  },
  {
   "cell_type": "code",
   "execution_count": 4,
   "id": "021d0f77-4c9c-4913-8334-076a7aec0698",
   "metadata": {},
   "outputs": [
    {
     "data": {
      "text/plain": [
       "NewFrac(Univariate Polynomial Ring in x over Integer Ring)"
      ]
     },
     "execution_count": 4,
     "metadata": {},
     "output_type": "execute_result"
    }
   ],
   "source": [
    "FF"
   ]
  },
  {
   "cell_type": "code",
   "execution_count": 5,
   "id": "87a0c38b-916a-4540-b536-e7c011a7b1ad",
   "metadata": {},
   "outputs": [
    {
     "data": {
      "text/plain": [
       "Integer Ring"
      ]
     },
     "execution_count": 5,
     "metadata": {},
     "output_type": "execute_result"
    }
   ],
   "source": [
    "FF.base_ring()"
   ]
  },
  {
   "cell_type": "code",
   "execution_count": 6,
   "id": "d401f033-6da6-4db2-8352-884ae7ac9ece",
   "metadata": {},
   "outputs": [
    {
     "data": {
      "text/plain": [
       "Integer Ring"
      ]
     },
     "execution_count": 6,
     "metadata": {},
     "output_type": "execute_result"
    }
   ],
   "source": [
    "ZZ['x'].base()"
   ]
  },
  {
   "cell_type": "code",
   "execution_count": 7,
   "id": "b9baa89c-5f8e-4fba-b24c-a7cda482a4cf",
   "metadata": {},
   "outputs": [
    {
     "data": {
      "text/plain": [
       "Integer Ring"
      ]
     },
     "execution_count": 7,
     "metadata": {},
     "output_type": "execute_result"
    }
   ],
   "source": [
    "ZZ['x'].base_ring()"
   ]
  },
  {
   "cell_type": "code",
   "execution_count": 8,
   "id": "f5216739-3417-4882-b571-8640fb181e1d",
   "metadata": {},
   "outputs": [],
   "source": [
    "class MyElement(FieldElement):\n",
    "    def __init__(self, parent,n,d=None):\n",
    "        B = parent.base()\n",
    "        if d is None:\n",
    "            d = B.one()\n",
    "        if n not in B or d not in B:\n",
    "            raise ValueError(\"Numerator and denominator must be elements of %s\"%B)\n",
    "        # Numerator and denominator should not just be \"in\" B,\n",
    "        # but should be defined as elements of B\n",
    "        d = B(d)\n",
    "        n = B(n)\n",
    "        if d==0:\n",
    "            raise ZeroDivisionError(\"The denominator must not be zero\")\n",
    "        if d<0:\n",
    "            self.n = -n\n",
    "            self.d = -d\n",
    "        else:\n",
    "            self.n = n\n",
    "            self.d = d\n",
    "        FieldElement.__init__(self,parent)\n",
    "    def numerator(self):\n",
    "        return self.n\n",
    "    def denominator(self):\n",
    "        return self.d\n",
    "    def _repr_(self):\n",
    "        return \"%s/%s\"%(self.n,self.d)\n",
    "    def _richcmp_(self, other, op):\n",
    "        from sage.structure.richcmp import richcmp\n",
    "        return richcmp(self.n*other.denominator(), other.numerator()*self.d, op)\n",
    "    def _add_(self, other):\n",
    "        C = self.__class__\n",
    "        D = self.d*other.denominator()\n",
    "        return C(self.parent(), self.n*other.denominator()+self.d*other.numerator(), D)\n",
    "    def _sub_(self, other):\n",
    "        C = self.__class__\n",
    "        D = self.d*other.denominator()\n",
    "        return C(self.parent(), self.n*other.denominator()-self.d*other.numerator(),D)\n",
    "    def _mul_(self, other):\n",
    "        C = self.__class__\n",
    "        return C(self.parent(), self.n*other.numerator(), self.d*other.denominator())\n",
    "    def _div_(self, other):\n",
    "        C = self.__class__\n",
    "        return C(self.parent(), self.n*other.denominator(), self.d*other.numerator())"
   ]
  },
  {
   "cell_type": "code",
   "execution_count": 9,
   "id": "daf94400-1726-4dbd-9a73-0596c6d627d0",
   "metadata": {},
   "outputs": [],
   "source": [
    "P = MyFrac(ZZ)\n",
    "a = MyElement(P, 3, 4)\n",
    "b = MyElement(P, 1, 2)"
   ]
  },
  {
   "cell_type": "code",
   "execution_count": 10,
   "id": "5e08eb08-4bad-4c68-8900-42d7af62f57c",
   "metadata": {},
   "outputs": [
    {
     "data": {
      "text/plain": [
       "(10/8, 2/8, 3/8, 6/4)"
      ]
     },
     "execution_count": 10,
     "metadata": {},
     "output_type": "execute_result"
    }
   ],
   "source": [
    "a+b, a-b, a*b, a/b"
   ]
  },
  {
   "cell_type": "code",
   "execution_count": 11,
   "id": "8691f03f-2990-4864-a43c-5d2729e8848d",
   "metadata": {},
   "outputs": [
    {
     "data": {
      "text/plain": [
       "True"
      ]
     },
     "execution_count": 11,
     "metadata": {},
     "output_type": "execute_result"
    }
   ],
   "source": [
    "a-b == MyElement(P, 1, 4)"
   ]
  },
  {
   "cell_type": "code",
   "execution_count": 12,
   "id": "d5d34e43-24f5-4e98-ae70-e00f5029c85c",
   "metadata": {},
   "outputs": [],
   "source": [
    "class MyFrac(MyFrac):\n",
    "    Element = MyElement"
   ]
  },
  {
   "cell_type": "code",
   "execution_count": 13,
   "id": "1a9a2c6e-c24b-45d5-a660-ae65d94909f4",
   "metadata": {},
   "outputs": [
    {
     "data": {
      "text/plain": [
       "(1/1, 2/3)"
      ]
     },
     "execution_count": 13,
     "metadata": {},
     "output_type": "execute_result"
    }
   ],
   "source": [
    "P = MyFrac(ZZ)\n",
    "P(1), P(2,3)"
   ]
  },
  {
   "cell_type": "code",
   "execution_count": 14,
   "id": "6fc3440c-4c88-4eab-b454-53ccda1bce8d",
   "metadata": {},
   "outputs": [
    {
     "data": {
      "text/plain": [
       "0/1"
      ]
     },
     "execution_count": 14,
     "metadata": {},
     "output_type": "execute_result"
    }
   ],
   "source": [
    "P.zero()"
   ]
  },
  {
   "cell_type": "code",
   "execution_count": 2,
   "id": "ead9aade-568b-4ccd-ae35-192ae83aeb12",
   "metadata": {},
   "outputs": [],
   "source": [
    "m = None"
   ]
  },
  {
   "cell_type": "code",
   "execution_count": 4,
   "id": "c0192b98-aebb-484e-b709-239428b36579",
   "metadata": {},
   "outputs": [
    {
     "name": "stdout",
     "output_type": "stream",
     "text": [
      "1\n"
     ]
    }
   ],
   "source": [
    "if m is None:\n",
    "    print(1)"
   ]
  },
  {
   "cell_type": "code",
   "execution_count": 7,
   "id": "01dfdbd9-76bd-4da3-bce6-52909831d109",
   "metadata": {},
   "outputs": [],
   "source": [
    "I = Zmod(25).ideal(5)"
   ]
  },
  {
   "cell_type": "code",
   "execution_count": 12,
   "id": "a52a16e7-7261-4621-bd4b-28212389e704",
   "metadata": {},
   "outputs": [
    {
     "data": {
      "text/plain": [
       "Ring of integers modulo 25"
      ]
     },
     "execution_count": 12,
     "metadata": {},
     "output_type": "execute_result"
    }
   ],
   "source": [
    "I.ring()"
   ]
  },
  {
   "cell_type": "code",
   "execution_count": 13,
   "id": "079100e5-e877-4306-957a-4c7623533054",
   "metadata": {},
   "outputs": [
    {
     "data": {
      "text/plain": [
       "True"
      ]
     },
     "execution_count": 13,
     "metadata": {},
     "output_type": "execute_result"
    }
   ],
   "source": [
    "Zmod(25) is I.ring()"
   ]
  },
  {
   "cell_type": "code",
   "execution_count": 14,
   "id": "32430496-b365-4db7-a542-5dc4e4595b9c",
   "metadata": {},
   "outputs": [
    {
     "data": {
      "text/plain": [
       "(Integer Ring, <class 'int'>)"
      ]
     },
     "execution_count": 14,
     "metadata": {},
     "output_type": "execute_result"
    }
   ],
   "source": [
    "(ZZ, int)"
   ]
  },
  {
   "cell_type": "code",
   "execution_count": 15,
   "id": "76df4171-fc5e-401b-9fdd-797b03bd6bb3",
   "metadata": {},
   "outputs": [
    {
     "data": {
      "text/plain": [
       "False"
      ]
     },
     "execution_count": 15,
     "metadata": {},
     "output_type": "execute_result"
    }
   ],
   "source": [
    "Zmod(25) in (ZZ, int)"
   ]
  },
  {
   "cell_type": "code",
   "execution_count": 16,
   "id": "15724ba5-36b5-4354-9885-915a42ab139e",
   "metadata": {},
   "outputs": [
    {
     "data": {
      "text/plain": [
       "<sage.rings.finite_rings.integer_mod_ring.IntegerModFactory object at 0x7f81b8ecf070>"
      ]
     },
     "execution_count": 16,
     "metadata": {},
     "output_type": "execute_result"
    }
   ],
   "source": [
    "(Zmod)"
   ]
  },
  {
   "cell_type": "code",
   "execution_count": 18,
   "id": "8992f709-4112-4c72-89a7-bf00f95df8b7",
   "metadata": {},
   "outputs": [
    {
     "ename": "TypeError",
     "evalue": "argument of type 'IntegerModFactory' is not iterable",
     "output_type": "error",
     "traceback": [
      "\u001b[0;31m---------------------------------------------------------------------------\u001b[0m",
      "\u001b[0;31mTypeError\u001b[0m                                 Traceback (most recent call last)",
      "Cell \u001b[0;32mIn[18], line 1\u001b[0m\n\u001b[0;32m----> 1\u001b[0m \u001b[43mZmod\u001b[49m\u001b[43m(\u001b[49m\u001b[43mInteger\u001b[49m\u001b[43m(\u001b[49m\u001b[38;5;241;43m25\u001b[39;49m\u001b[43m)\u001b[49m\u001b[43m)\u001b[49m\u001b[43m \u001b[49m\u001b[38;5;129;43;01min\u001b[39;49;00m\u001b[43m \u001b[49m\u001b[43m(\u001b[49m\u001b[43mZmod\u001b[49m\u001b[43m)\u001b[49m\n",
      "\u001b[0;31mTypeError\u001b[0m: argument of type 'IntegerModFactory' is not iterable"
     ]
    }
   ],
   "source": [
    "Zmod(25) in (Zmod)"
   ]
  },
  {
   "cell_type": "code",
   "execution_count": 20,
   "id": "497a94bc-b1eb-49f3-835a-7df0bd08fa41",
   "metadata": {},
   "outputs": [
    {
     "data": {
      "text/plain": [
       "<class 'int'>"
      ]
     },
     "execution_count": 20,
     "metadata": {},
     "output_type": "execute_result"
    }
   ],
   "source": [
    "int"
   ]
  },
  {
   "cell_type": "code",
   "execution_count": 21,
   "id": "b0393bc6-973a-42df-bed8-93147cbf7f8f",
   "metadata": {},
   "outputs": [
    {
     "data": {
      "text/plain": [
       "Ring of integers modulo 125"
      ]
     },
     "execution_count": 21,
     "metadata": {},
     "output_type": "execute_result"
    }
   ],
   "source": [
    "Zmod(125)"
   ]
  },
  {
   "cell_type": "code",
   "execution_count": 23,
   "id": "91e66419-8604-484d-90a8-832975017ddf",
   "metadata": {},
   "outputs": [
    {
     "data": {
      "text/plain": [
       "Ring of integers modulo 125"
      ]
     },
     "execution_count": 23,
     "metadata": {},
     "output_type": "execute_result"
    }
   ],
   "source": [
    "Integers(125)"
   ]
  },
  {
   "cell_type": "code",
   "execution_count": 25,
   "id": "6218c09e-5f2a-4790-8973-c9654b6db927",
   "metadata": {},
   "outputs": [
    {
     "data": {
      "text/plain": [
       "False"
      ]
     },
     "execution_count": 25,
     "metadata": {},
     "output_type": "execute_result"
    }
   ],
   "source": [
    "Zmod(25) in (ZZ,Integers)"
   ]
  },
  {
   "cell_type": "code",
   "execution_count": 28,
   "id": "41f5147f-19d5-4591-95cb-559680018229",
   "metadata": {},
   "outputs": [
    {
     "ename": "NameError",
     "evalue": "name 'integer_mod_ring' is not defined",
     "output_type": "error",
     "traceback": [
      "\u001b[0;31m---------------------------------------------------------------------------\u001b[0m",
      "\u001b[0;31mNameError\u001b[0m                                 Traceback (most recent call last)",
      "Cell \u001b[0;32mIn[28], line 1\u001b[0m\n\u001b[0;32m----> 1\u001b[0m \u001b[38;5;28misinstance\u001b[39m(Zmod(Integer(\u001b[38;5;241m25\u001b[39m)),\u001b[43minteger_mod_ring\u001b[49m)\n",
      "\u001b[0;31mNameError\u001b[0m: name 'integer_mod_ring' is not defined"
     ]
    }
   ],
   "source": [
    "from sage.rings.finite_rings.integer_mod_ring import IntegerModRing_generic\n",
    "isinstance(Zmod(25),integer_mod_ring)"
   ]
  },
  {
   "cell_type": "code",
   "execution_count": 27,
   "id": "8f766eb1-1c38-4ce2-b579-eb173fd7be0a",
   "metadata": {},
   "outputs": [
    {
     "data": {
      "text/plain": [
       "<class 'sage.rings.finite_rings.integer_mod_ring.IntegerModRing_generic_with_category'>"
      ]
     },
     "execution_count": 27,
     "metadata": {},
     "output_type": "execute_result"
    }
   ],
   "source": [
    "type(Zmod(25))"
   ]
  },
  {
   "cell_type": "code",
   "execution_count": 29,
   "id": "e50d09e1-e2a9-482b-b17b-1a1d6a467ad5",
   "metadata": {},
   "outputs": [
    {
     "data": {
      "text/plain": [
       "Finite Field in z2 of size 5^2"
      ]
     },
     "execution_count": 29,
     "metadata": {},
     "output_type": "execute_result"
    }
   ],
   "source": [
    "GF(25)"
   ]
  },
  {
   "cell_type": "code",
   "execution_count": 30,
   "id": "0424ac26-1b51-4769-a69f-c500ce54a81a",
   "metadata": {},
   "outputs": [
    {
     "data": {
      "text/plain": [
       "True"
      ]
     },
     "execution_count": 30,
     "metadata": {},
     "output_type": "execute_result"
    }
   ],
   "source": [
    "isinstance(Zmod(25), sage.rings.abc.IntegerModRing)"
   ]
  },
  {
   "cell_type": "code",
   "execution_count": 35,
   "id": "8580819c-9408-401d-bc52-75193503d4c9",
   "metadata": {},
   "outputs": [],
   "source": [
    "a = {1,2,3}"
   ]
  },
  {
   "cell_type": "code",
   "execution_count": 38,
   "id": "41a4dafd-ef3b-464c-a38f-d4376a780eab",
   "metadata": {},
   "outputs": [],
   "source": [
    "b =set(a)"
   ]
  },
  {
   "cell_type": "code",
   "execution_count": 39,
   "id": "ed78f08f-5eb6-4d7c-946a-810f9fe5ee11",
   "metadata": {},
   "outputs": [
    {
     "data": {
      "text/plain": [
       "{1, 2, 3}"
      ]
     },
     "execution_count": 39,
     "metadata": {},
     "output_type": "execute_result"
    }
   ],
   "source": [
    "b"
   ]
  },
  {
   "cell_type": "code",
   "execution_count": 43,
   "id": "b2647dab-6ffe-444e-bc61-44e920ea5e39",
   "metadata": {},
   "outputs": [],
   "source": [
    "c = {5,5,9}"
   ]
  },
  {
   "cell_type": "code",
   "execution_count": 44,
   "id": "1da36249-0339-4eb3-8bcc-6d554b06df3d",
   "metadata": {},
   "outputs": [
    {
     "data": {
      "text/plain": [
       "{5, 9}"
      ]
     },
     "execution_count": 44,
     "metadata": {},
     "output_type": "execute_result"
    }
   ],
   "source": [
    "c"
   ]
  },
  {
   "cell_type": "code",
   "execution_count": 47,
   "id": "d1856f06-a0ae-466c-b8fd-9380ce9c1abc",
   "metadata": {},
   "outputs": [
    {
     "data": {
      "text/plain": [
       "{1, 2, 3, 5, 9}"
      ]
     },
     "execution_count": 47,
     "metadata": {},
     "output_type": "execute_result"
    }
   ],
   "source": [
    "c.union(b)"
   ]
  },
  {
   "cell_type": "code",
   "execution_count": 68,
   "id": "0e4909e9-6cfd-467d-b1e0-cd43d0ccc481",
   "metadata": {},
   "outputs": [],
   "source": [
    "E = EllipticCurve([0,3])"
   ]
  },
  {
   "cell_type": "code",
   "execution_count": 69,
   "id": "23fc31c7-f301-44e4-a537-435e4db04405",
   "metadata": {},
   "outputs": [
    {
     "data": {
      "text/plain": [
       "Elliptic Curve defined by y^2 = x^3 + 3 over Rational Field"
      ]
     },
     "execution_count": 69,
     "metadata": {},
     "output_type": "execute_result"
    }
   ],
   "source": [
    "E"
   ]
  },
  {
   "cell_type": "code",
   "execution_count": 13,
   "id": "aefdbf34-35cb-4302-8e74-9a24464e103a",
   "metadata": {},
   "outputs": [],
   "source": [
    "O = E(0,1,0)"
   ]
  },
  {
   "cell_type": "code",
   "execution_count": 14,
   "id": "9cb797b3-961c-4c43-ae24-036e63822072",
   "metadata": {},
   "outputs": [
    {
     "data": {
      "text/plain": [
       "(0 : 1 : 0)"
      ]
     },
     "execution_count": 14,
     "metadata": {},
     "output_type": "execute_result"
    }
   ],
   "source": [
    "0*O"
   ]
  },
  {
   "cell_type": "code",
   "execution_count": 15,
   "id": "d046488d-c196-4561-892c-959610366bc3",
   "metadata": {},
   "outputs": [],
   "source": [
    "P = E(1,2,1)"
   ]
  },
  {
   "cell_type": "code",
   "execution_count": 16,
   "id": "da30d30a-2ded-4a37-88a7-88dd593f3680",
   "metadata": {},
   "outputs": [
    {
     "data": {
      "text/plain": [
       "(1 : 2 : 1)"
      ]
     },
     "execution_count": 16,
     "metadata": {},
     "output_type": "execute_result"
    }
   ],
   "source": [
    "P"
   ]
  },
  {
   "cell_type": "code",
   "execution_count": 17,
   "id": "e455881b-9dd7-448b-a534-36c64771b18e",
   "metadata": {},
   "outputs": [
    {
     "data": {
      "text/plain": [
       "(-23/16 : -11/64 : 1)"
      ]
     },
     "execution_count": 17,
     "metadata": {},
     "output_type": "execute_result"
    }
   ],
   "source": [
    "2*P"
   ]
  },
  {
   "cell_type": "code",
   "execution_count": 18,
   "id": "5f872e27-2270-43c1-b366-9a50bb72b8e8",
   "metadata": {},
   "outputs": [
    {
     "data": {
      "text/plain": [
       "<class 'sage.schemes.elliptic_curves.ell_rational_field.EllipticCurve_rational_field_with_category'>"
      ]
     },
     "execution_count": 18,
     "metadata": {},
     "output_type": "execute_result"
    }
   ],
   "source": [
    "type(E)"
   ]
  },
  {
   "cell_type": "code",
   "execution_count": 45,
   "id": "e55ac823-b1d7-4c6c-9310-43a5822c1540",
   "metadata": {},
   "outputs": [
    {
     "data": {
      "text/plain": [
       "7"
      ]
     },
     "execution_count": 45,
     "metadata": {},
     "output_type": "execute_result"
    }
   ],
   "source": [
    "ZZ.random_element()"
   ]
  },
  {
   "cell_type": "code",
   "execution_count": 46,
   "id": "d51c40b7-b4e8-4e35-a618-84c95ada66d5",
   "metadata": {},
   "outputs": [
    {
     "data": {
      "text/plain": [
       "Elliptic Curve defined by y^2 = x^3 + 3 over Rational Field"
      ]
     },
     "execution_count": 46,
     "metadata": {},
     "output_type": "execute_result"
    }
   ],
   "source": [
    "E"
   ]
  },
  {
   "cell_type": "code",
   "execution_count": 48,
   "id": "dfad171e-4137-4db6-94fd-0888951744f8",
   "metadata": {},
   "outputs": [
    {
     "data": {
      "text/plain": [
       "True"
      ]
     },
     "execution_count": 48,
     "metadata": {},
     "output_type": "execute_result"
    }
   ],
   "source": [
    "Zmod(25).is_finite()"
   ]
  },
  {
   "cell_type": "code",
   "execution_count": 52,
   "id": "2b3e5aa6-919d-456d-b28f-d3a2abedfe5f",
   "metadata": {},
   "outputs": [],
   "source": [
    "R.<x> = PolynomialRing(ZZ)"
   ]
  },
  {
   "cell_type": "code",
   "execution_count": 53,
   "id": "100fa743-04b6-48b0-a6b7-808738b049eb",
   "metadata": {},
   "outputs": [
    {
     "data": {
      "text/plain": [
       "Univariate Polynomial Ring in x over Integer Ring"
      ]
     },
     "execution_count": 53,
     "metadata": {},
     "output_type": "execute_result"
    }
   ],
   "source": [
    "R"
   ]
  },
  {
   "cell_type": "code",
   "execution_count": 54,
   "id": "0a2691df-f929-4694-b379-528967b3faf7",
   "metadata": {},
   "outputs": [
    {
     "data": {
      "text/plain": [
       "False"
      ]
     },
     "execution_count": 54,
     "metadata": {},
     "output_type": "execute_result"
    }
   ],
   "source": [
    "R.is_finite()"
   ]
  },
  {
   "cell_type": "code",
   "execution_count": 55,
   "id": "6cae3db3-60ef-469c-a1b3-e25d00295c8a",
   "metadata": {},
   "outputs": [
    {
     "data": {
      "text/plain": [
       "Elliptic Curve defined by y^2 = x^3 + 3 over Rational Field"
      ]
     },
     "execution_count": 55,
     "metadata": {},
     "output_type": "execute_result"
    }
   ],
   "source": [
    "E"
   ]
  },
  {
   "cell_type": "code",
   "execution_count": 63,
   "id": "7a972eb4-2a99-4eaf-9f39-3f7f9a6754e9",
   "metadata": {},
   "outputs": [],
   "source": [
    "E = EllipticCurve(GF(125),[1,1,2,4,6])"
   ]
  },
  {
   "cell_type": "code",
   "execution_count": 64,
   "id": "3c6de2ef-2e1e-45aa-ad01-de87e97ce15d",
   "metadata": {},
   "outputs": [
    {
     "data": {
      "text/plain": [
       "Elliptic Curve defined by y^2 + x*y + 2*y = x^3 + x^2 + 4*x + 1 over Finite Field in z3 of size 5^3"
      ]
     },
     "execution_count": 64,
     "metadata": {},
     "output_type": "execute_result"
    }
   ],
   "source": [
    "E"
   ]
  },
  {
   "cell_type": "code",
   "execution_count": 65,
   "id": "04281f19-4a3f-48f3-bdb0-fcccb39d083d",
   "metadata": {},
   "outputs": [
    {
     "data": {
      "text/plain": [
       "<class 'sage.schemes.elliptic_curves.ell_finite_field.EllipticCurve_finite_field_with_category'>"
      ]
     },
     "execution_count": 65,
     "metadata": {},
     "output_type": "execute_result"
    }
   ],
   "source": [
    "type(E)"
   ]
  },
  {
   "cell_type": "code",
   "execution_count": 75,
   "id": "5ccf6798-2e6e-4749-8030-78ebf2ca5332",
   "metadata": {},
   "outputs": [
    {
     "data": {
      "text/plain": [
       "(2, 6, 7)"
      ]
     },
     "execution_count": 75,
     "metadata": {},
     "output_type": "execute_result"
    }
   ],
   "source": [
    "tuple([2,6,7])"
   ]
  },
  {
   "cell_type": "code",
   "execution_count": 76,
   "id": "a477d080-29e6-495c-b91b-5d7d114a42ec",
   "metadata": {},
   "outputs": [
    {
     "data": {
      "text/plain": [
       "(x, y, p, q)"
      ]
     },
     "execution_count": 76,
     "metadata": {},
     "output_type": "execute_result"
    }
   ],
   "source": [
    "var('x y p q')"
   ]
  },
  {
   "cell_type": "code",
   "execution_count": 80,
   "id": "7696546a-154e-4ac5-b577-7db3083a9f41",
   "metadata": {},
   "outputs": [],
   "source": [
    "I = Zmod(125).ideal(5)"
   ]
  },
  {
   "cell_type": "code",
   "execution_count": 82,
   "id": "d8b52aa6-94a6-4bfc-89a7-b194704ed2ff",
   "metadata": {},
   "outputs": [
    {
     "data": {
      "text/plain": [
       "(25,)"
      ]
     },
     "execution_count": 82,
     "metadata": {},
     "output_type": "execute_result"
    }
   ],
   "source": [
    "I2 = I^2\n",
    "I2.gens()"
   ]
  },
  {
   "cell_type": "code",
   "execution_count": 85,
   "id": "609c5149-c8b2-4f1f-9f66-d8e25a820302",
   "metadata": {},
   "outputs": [
    {
     "ename": "AttributeError",
     "evalue": "'bool' object has no attribute 'lhs'",
     "output_type": "error",
     "traceback": [
      "\u001b[0;31m---------------------------------------------------------------------------\u001b[0m",
      "\u001b[0;31mAttributeError\u001b[0m                            Traceback (most recent call last)",
      "Cell \u001b[0;32mIn[85], line 1\u001b[0m\n\u001b[0;32m----> 1\u001b[0m \u001b[43msolve_mod\u001b[49m\u001b[43m(\u001b[49m\u001b[43m[\u001b[49m\u001b[43mx\u001b[49m\u001b[43m \u001b[49m\u001b[38;5;241;43m==\u001b[39;49m\u001b[43m \u001b[49m\u001b[43mInteger\u001b[49m\u001b[43m(\u001b[49m\u001b[38;5;241;43m1515\u001b[39;49m\u001b[43m)\u001b[49m\u001b[38;5;241;43m*\u001b[39;49m\u001b[43my\u001b[49m\u001b[43m,\u001b[49m\u001b[43m \u001b[49m\u001b[43mx\u001b[49m\u001b[43m \u001b[49m\u001b[38;5;129;43;01min\u001b[39;49;00m\u001b[43m \u001b[49m\u001b[43mZmod\u001b[49m\u001b[43m(\u001b[49m\u001b[43mInteger\u001b[49m\u001b[43m(\u001b[49m\u001b[38;5;241;43m125\u001b[39;49m\u001b[43m)\u001b[49m\u001b[43m)\u001b[49m\u001b[43m]\u001b[49m\u001b[43m,\u001b[49m\u001b[43mI2\u001b[49m\u001b[38;5;241;43m.\u001b[39;49m\u001b[43mgens\u001b[49m\u001b[43m(\u001b[49m\u001b[43m)\u001b[49m\u001b[43m[\u001b[49m\u001b[43mInteger\u001b[49m\u001b[43m(\u001b[49m\u001b[38;5;241;43m0\u001b[39;49m\u001b[43m)\u001b[49m\u001b[43m]\u001b[49m\u001b[43m)\u001b[49m\n",
      "File \u001b[0;32m/usr/lib/python3.11/site-packages/sage/symbolic/relation.py:1578\u001b[0m, in \u001b[0;36msolve_mod\u001b[0;34m(eqns, modulus, solution_dict)\u001b[0m\n\u001b[1;32m   1576\u001b[0m \u001b[38;5;28;01mif\u001b[39;00m \u001b[38;5;129;01mnot\u001b[39;00m \u001b[38;5;28misinstance\u001b[39m(eqns, (\u001b[38;5;28mlist\u001b[39m, \u001b[38;5;28mtuple\u001b[39m)):\n\u001b[1;32m   1577\u001b[0m     eqns \u001b[38;5;241m=\u001b[39m [eqns]\n\u001b[0;32m-> 1578\u001b[0m eqns \u001b[38;5;241m=\u001b[39m \u001b[43m[\u001b[49m\u001b[43meq\u001b[49m\u001b[43m \u001b[49m\u001b[38;5;28;43;01mif\u001b[39;49;00m\u001b[43m \u001b[49m\u001b[38;5;28;43misinstance\u001b[39;49m\u001b[43m(\u001b[49m\u001b[43meq\u001b[49m\u001b[43m,\u001b[49m\u001b[43m \u001b[49m\u001b[43mExpression\u001b[49m\u001b[43m)\u001b[49m\u001b[43m \u001b[49m\u001b[38;5;28;43;01melse\u001b[39;49;00m\u001b[43m \u001b[49m\u001b[43m(\u001b[49m\u001b[43meq\u001b[49m\u001b[38;5;241;43m.\u001b[39;49m\u001b[43mlhs\u001b[49m\u001b[43m(\u001b[49m\u001b[43m)\u001b[49m\u001b[43m \u001b[49m\u001b[38;5;241;43m-\u001b[39;49m\u001b[43m \u001b[49m\u001b[43meq\u001b[49m\u001b[38;5;241;43m.\u001b[39;49m\u001b[43mrhs\u001b[49m\u001b[43m(\u001b[49m\u001b[43m)\u001b[49m\u001b[43m)\u001b[49m\u001b[43m \u001b[49m\u001b[38;5;28;43;01mfor\u001b[39;49;00m\u001b[43m \u001b[49m\u001b[43meq\u001b[49m\u001b[43m \u001b[49m\u001b[38;5;129;43;01min\u001b[39;49;00m\u001b[43m \u001b[49m\u001b[43meqns\u001b[49m\u001b[43m]\u001b[49m\n\u001b[1;32m   1579\u001b[0m modulus \u001b[38;5;241m=\u001b[39m Integer(modulus)\n\u001b[1;32m   1580\u001b[0m \u001b[38;5;28;01mif\u001b[39;00m modulus \u001b[38;5;241m<\u001b[39m \u001b[38;5;241m1\u001b[39m:\n",
      "File \u001b[0;32m/usr/lib/python3.11/site-packages/sage/symbolic/relation.py:1578\u001b[0m, in \u001b[0;36m<listcomp>\u001b[0;34m(.0)\u001b[0m\n\u001b[1;32m   1576\u001b[0m \u001b[38;5;28;01mif\u001b[39;00m \u001b[38;5;129;01mnot\u001b[39;00m \u001b[38;5;28misinstance\u001b[39m(eqns, (\u001b[38;5;28mlist\u001b[39m, \u001b[38;5;28mtuple\u001b[39m)):\n\u001b[1;32m   1577\u001b[0m     eqns \u001b[38;5;241m=\u001b[39m [eqns]\n\u001b[0;32m-> 1578\u001b[0m eqns \u001b[38;5;241m=\u001b[39m [eq \u001b[38;5;28;01mif\u001b[39;00m \u001b[38;5;28misinstance\u001b[39m(eq, Expression) \u001b[38;5;28;01melse\u001b[39;00m (\u001b[43meq\u001b[49m\u001b[38;5;241;43m.\u001b[39;49m\u001b[43mlhs\u001b[49m() \u001b[38;5;241m-\u001b[39m eq\u001b[38;5;241m.\u001b[39mrhs()) \u001b[38;5;28;01mfor\u001b[39;00m eq \u001b[38;5;129;01min\u001b[39;00m eqns]\n\u001b[1;32m   1579\u001b[0m modulus \u001b[38;5;241m=\u001b[39m Integer(modulus)\n\u001b[1;32m   1580\u001b[0m \u001b[38;5;28;01mif\u001b[39;00m modulus \u001b[38;5;241m<\u001b[39m \u001b[38;5;241m1\u001b[39m:\n",
      "\u001b[0;31mAttributeError\u001b[0m: 'bool' object has no attribute 'lhs'"
     ]
    }
   ],
   "source": [
    "solve_mod([x == 1515*y, x in Zmod(125)],I2.gens()[0])"
   ]
  },
  {
   "cell_type": "code",
   "execution_count": 88,
   "id": "f4e76e82-1c31-4f66-b095-6c23d30ac12a",
   "metadata": {},
   "outputs": [
    {
     "ename": "TypeError",
     "evalue": "unsupported operand parent(s) for *: 'Ring of integers modulo 25' and 'Symbolic Ring'",
     "output_type": "error",
     "traceback": [
      "\u001b[0;31m---------------------------------------------------------------------------\u001b[0m",
      "\u001b[0;31mTypeError\u001b[0m                                 Traceback (most recent call last)",
      "Cell \u001b[0;32mIn[88], line 1\u001b[0m\n\u001b[0;32m----> 1\u001b[0m equ \u001b[38;5;241m=\u001b[39m x \u001b[38;5;241m==\u001b[39m \u001b[43mmod\u001b[49m\u001b[43m(\u001b[49m\u001b[43mInteger\u001b[49m\u001b[43m(\u001b[49m\u001b[38;5;241;43m1515\u001b[39;49m\u001b[43m)\u001b[49m\u001b[43m,\u001b[49m\u001b[43mInteger\u001b[49m\u001b[43m(\u001b[49m\u001b[38;5;241;43m25\u001b[39;49m\u001b[43m)\u001b[49m\u001b[43m)\u001b[49m\u001b[38;5;241;43m*\u001b[39;49m\u001b[43my\u001b[49m\n",
      "File \u001b[0;32m/usr/lib/python3.11/site-packages/sage/structure/element.pyx:1506\u001b[0m, in \u001b[0;36msage.structure.element.Element.__mul__ (build/cythonized/sage/structure/element.c:20052)\u001b[0;34m()\u001b[0m\n\u001b[1;32m   1504\u001b[0m     return (<Element>left)._mul_(right)\n\u001b[1;32m   1505\u001b[0m if BOTH_ARE_ELEMENT(cl):\n\u001b[0;32m-> 1506\u001b[0m     return coercion_model.bin_op(left, right, mul)\n\u001b[1;32m   1507\u001b[0m \n\u001b[1;32m   1508\u001b[0m cdef long value\n",
      "File \u001b[0;32m/usr/lib/python3.11/site-packages/sage/structure/coerce.pyx:1278\u001b[0m, in \u001b[0;36msage.structure.coerce.CoercionModel.bin_op (build/cythonized/sage/structure/coerce.c:16846)\u001b[0;34m()\u001b[0m\n\u001b[1;32m   1276\u001b[0m     # We should really include the underlying error.\n\u001b[1;32m   1277\u001b[0m     # This causes so much headache.\n\u001b[0;32m-> 1278\u001b[0m     raise bin_op_exception(op, x, y)\n\u001b[1;32m   1279\u001b[0m \n\u001b[1;32m   1280\u001b[0m cpdef canonical_coercion(self, x, y) noexcept:\n",
      "\u001b[0;31mTypeError\u001b[0m: unsupported operand parent(s) for *: 'Ring of integers modulo 25' and 'Symbolic Ring'"
     ]
    }
   ],
   "source": [
    "equ = x == mod(1515,25)*y"
   ]
  },
  {
   "cell_type": "code",
   "execution_count": 90,
   "id": "5bbea8df-0471-40fd-b1ee-cb432c6f54bb",
   "metadata": {},
   "outputs": [
    {
     "data": {
      "text/plain": [
       "<class 'sage.rings.finite_rings.integer_mod.IntegerMod_int'>"
      ]
     },
     "execution_count": 90,
     "metadata": {},
     "output_type": "execute_result"
    }
   ],
   "source": [
    "type(mod(1515,25))"
   ]
  },
  {
   "cell_type": "code",
   "execution_count": 92,
   "id": "e67a7ccd-c7a6-4d54-bc87-1d80689eade3",
   "metadata": {},
   "outputs": [
    {
     "data": {
      "text/plain": [
       "<class 'sage.rings.integer.Integer'>"
      ]
     },
     "execution_count": 92,
     "metadata": {},
     "output_type": "execute_result"
    }
   ],
   "source": [
    "type(1515%25)"
   ]
  },
  {
   "cell_type": "code",
   "execution_count": 157,
   "id": "7a618dfb-dbdb-41a9-979a-9dd294f30e9b",
   "metadata": {},
   "outputs": [
    {
     "data": {
      "text/plain": [
       "(x, y, t, s, a1, a2, a3, a4, a6)"
      ]
     },
     "execution_count": 157,
     "metadata": {},
     "output_type": "execute_result"
    }
   ],
   "source": [
    "var('x,y,t,s,a1,a2,a3,a4,a6')"
   ]
  },
  {
   "cell_type": "code",
   "execution_count": 158,
   "id": "2dc64d90-cea7-4ad1-b0b0-6187891fe0d9",
   "metadata": {},
   "outputs": [],
   "source": [
    "equ = (y+t)^2 + a1*(x+s)*(y+t) + a3*(y+t) - (x+s)^3 - a2 * (x+s)^2 - a4*(x+s) - a6 == 0"
   ]
  },
  {
   "cell_type": "code",
   "execution_count": 159,
   "id": "f219b1ce-3527-4987-b2fe-cc8d2cf4205d",
   "metadata": {},
   "outputs": [
    {
     "data": {
      "text/plain": [
       "-a2*(s + x)^2 - (s + x)^3 + a1*(s + x)*(t + y) - a4*(s + x) + a3*(t + y) + (t + y)^2 - a6 == 0"
      ]
     },
     "execution_count": 159,
     "metadata": {},
     "output_type": "execute_result"
    }
   ],
   "source": [
    "equ"
   ]
  },
  {
   "cell_type": "code",
   "execution_count": 160,
   "id": "c2e629be-e216-413e-ad75-18dd86949016",
   "metadata": {},
   "outputs": [],
   "source": [
    "R.<t,a1,a2,a3,a4,a6,s,x,y> = PolynomialRing(QQ,9,order='lex')"
   ]
  },
  {
   "cell_type": "code",
   "execution_count": 161,
   "id": "ba5d909c-6c50-4b0e-ac3d-c090973218db",
   "metadata": {},
   "outputs": [
    {
     "data": {
      "text/plain": [
       "t^2 + t*a1*s + t*a1*x + t*a3 + 2*t*y + a1*s*y + a1*x*y - a2*s^2 - 2*a2*s*x - a2*x^2 + a3*y - a4*s - a4*x - a6 - s^3 - 3*s^2*x - 3*s*x^2 - x^3 + y^2"
      ]
     },
     "execution_count": 161,
     "metadata": {},
     "output_type": "execute_result"
    }
   ],
   "source": [
    "R(equ) "
   ]
  },
  {
   "cell_type": "code",
   "execution_count": null,
   "id": "d985467f-5a02-45f6-9022-bfb9eaf3d279",
   "metadata": {},
   "outputs": [],
   "source": []
  },
  {
   "cell_type": "code",
   "execution_count": 106,
   "id": "af05264c-e501-4a5c-b95e-4ecff35beede",
   "metadata": {},
   "outputs": [
    {
     "data": {
      "text/plain": [
       "[23, 59, 596]"
      ]
     },
     "execution_count": 106,
     "metadata": {},
     "output_type": "execute_result"
    }
   ],
   "source": [
    "[x for x in range(999) if x in [1,59,23,596] if x not in [1,15,456]]"
   ]
  },
  {
   "cell_type": "code",
   "execution_count": 107,
   "id": "0f3a4812-4953-400e-bac0-c88b4e30a0d6",
   "metadata": {},
   "outputs": [
    {
     "ename": "TypeError",
     "evalue": "'QuotientRingIdeal_principal' object is not iterable",
     "output_type": "error",
     "traceback": [
      "\u001b[0;31m---------------------------------------------------------------------------\u001b[0m",
      "\u001b[0;31mTypeError\u001b[0m                                 Traceback (most recent call last)",
      "Cell \u001b[0;32mIn[107], line 1\u001b[0m\n\u001b[0;32m----> 1\u001b[0m \u001b[43m[\u001b[49m\u001b[43mx\u001b[49m\u001b[43m \u001b[49m\u001b[38;5;28;43;01mfor\u001b[39;49;00m\u001b[43m \u001b[49m\u001b[43mx\u001b[49m\u001b[43m \u001b[49m\u001b[38;5;129;43;01min\u001b[39;49;00m\u001b[43m \u001b[49m\u001b[43mZmod\u001b[49m\u001b[43m(\u001b[49m\u001b[43mInteger\u001b[49m\u001b[43m(\u001b[49m\u001b[38;5;241;43m7\u001b[39;49m\u001b[43m)\u001b[49m\u001b[38;5;241;43m*\u001b[39;49m\u001b[38;5;241;43m*\u001b[39;49m\u001b[43mInteger\u001b[49m\u001b[43m(\u001b[49m\u001b[38;5;241;43m4\u001b[39;49m\u001b[43m)\u001b[49m\u001b[43m)\u001b[49m\u001b[38;5;241;43m.\u001b[39;49m\u001b[43mideal\u001b[49m\u001b[43m(\u001b[49m\u001b[43mInteger\u001b[49m\u001b[43m(\u001b[49m\u001b[38;5;241;43m7\u001b[39;49m\u001b[43m)\u001b[49m\u001b[43m)\u001b[49m\u001b[43m]\u001b[49m\n",
      "\u001b[0;31mTypeError\u001b[0m: 'QuotientRingIdeal_principal' object is not iterable"
     ]
    }
   ],
   "source": [
    "[x for x in Zmod(7^4).ideal(7)]"
   ]
  },
  {
   "cell_type": "code",
   "execution_count": 109,
   "id": "1d5af218-a384-4a79-833b-95a0168c45b8",
   "metadata": {},
   "outputs": [
    {
     "ename": "AttributeError",
     "evalue": "'QuotientRingIdeal_principal' object has no attribute 'points'",
     "output_type": "error",
     "traceback": [
      "\u001b[0;31m---------------------------------------------------------------------------\u001b[0m",
      "\u001b[0;31mAttributeError\u001b[0m                            Traceback (most recent call last)",
      "Cell \u001b[0;32mIn[109], line 1\u001b[0m\n\u001b[0;32m----> 1\u001b[0m \u001b[43mZmod\u001b[49m\u001b[43m(\u001b[49m\u001b[43mInteger\u001b[49m\u001b[43m(\u001b[49m\u001b[38;5;241;43m7\u001b[39;49m\u001b[43m)\u001b[49m\u001b[38;5;241;43m*\u001b[39;49m\u001b[38;5;241;43m*\u001b[39;49m\u001b[43mInteger\u001b[49m\u001b[43m(\u001b[49m\u001b[38;5;241;43m4\u001b[39;49m\u001b[43m)\u001b[49m\u001b[43m)\u001b[49m\u001b[38;5;241;43m.\u001b[39;49m\u001b[43mideal\u001b[49m\u001b[43m(\u001b[49m\u001b[43mInteger\u001b[49m\u001b[43m(\u001b[49m\u001b[38;5;241;43m7\u001b[39;49m\u001b[43m)\u001b[49m\u001b[43m)\u001b[49m\u001b[38;5;241;43m.\u001b[39;49m\u001b[43mpoints\u001b[49m()\n",
      "File \u001b[0;32m/usr/lib/python3.11/site-packages/sage/structure/element.pyx:489\u001b[0m, in \u001b[0;36msage.structure.element.Element.__getattr__ (build/cythonized/sage/structure/element.c:11598)\u001b[0;34m()\u001b[0m\n\u001b[1;32m    487\u001b[0m         AttributeError: 'LeftZeroSemigroup_with_category.element_class' object has no attribute 'blah_blah'...\n\u001b[1;32m    488\u001b[0m     \"\"\"\n\u001b[0;32m--> 489\u001b[0m     return self.getattr_from_category(name)\n\u001b[1;32m    490\u001b[0m \n\u001b[1;32m    491\u001b[0m cdef getattr_from_category(self, name) noexcept:\n",
      "File \u001b[0;32m/usr/lib/python3.11/site-packages/sage/structure/element.pyx:502\u001b[0m, in \u001b[0;36msage.structure.element.Element.getattr_from_category (build/cythonized/sage/structure/element.c:11708)\u001b[0;34m()\u001b[0m\n\u001b[1;32m    500\u001b[0m     else:\n\u001b[1;32m    501\u001b[0m         cls = P._abstract_element_class\n\u001b[0;32m--> 502\u001b[0m     return getattr_from_other_class(self, cls, name)\n\u001b[1;32m    503\u001b[0m \n\u001b[1;32m    504\u001b[0m def __dir__(self):\n",
      "File \u001b[0;32m/usr/lib/python3.11/site-packages/sage/cpython/getattr.pyx:362\u001b[0m, in \u001b[0;36msage.cpython.getattr.getattr_from_other_class (build/cythonized/sage/cpython/getattr.c:4432)\u001b[0;34m()\u001b[0m\n\u001b[1;32m    360\u001b[0m     dummy_error_message.cls = type(self)\n\u001b[1;32m    361\u001b[0m     dummy_error_message.name = name\n\u001b[0;32m--> 362\u001b[0m     raise AttributeError(dummy_error_message)\n\u001b[1;32m    363\u001b[0m attribute = <object>attr\n\u001b[1;32m    364\u001b[0m # Check for a descriptor (__get__ in Python)\n",
      "\u001b[0;31mAttributeError\u001b[0m: 'QuotientRingIdeal_principal' object has no attribute 'points'"
     ]
    }
   ],
   "source": [
    "Zmod(7^4).ideal(7).points()"
   ]
  },
  {
   "cell_type": "code",
   "execution_count": 115,
   "id": "3a29767b-1143-4673-af5c-f1c4a4529641",
   "metadata": {},
   "outputs": [],
   "source": [
    "b=Set([1,2,3])"
   ]
  },
  {
   "cell_type": "code",
   "execution_count": 114,
   "id": "45726b7d-6681-4339-9c5f-71185a296dfb",
   "metadata": {},
   "outputs": [],
   "source": [
    "a = [5,3,4,5]"
   ]
  },
  {
   "cell_type": "code",
   "execution_count": 123,
   "id": "d743f439-7ac2-4def-8f56-74c158850f77",
   "metadata": {},
   "outputs": [],
   "source": [
    "PolyR = PolynomialRing(GF(5), 't')"
   ]
  }
 ],
 "metadata": {
  "kernelspec": {
   "display_name": "SageMath 10.3",
   "language": "sage",
   "name": "sagemath"
  },
  "language_info": {
   "codemirror_mode": {
    "name": "ipython",
    "version": 3
   },
   "file_extension": ".py",
   "mimetype": "text/x-python",
   "name": "python",
   "nbconvert_exporter": "python",
   "pygments_lexer": "ipython3",
   "version": "3.11.8"
  }
 },
 "nbformat": 4,
 "nbformat_minor": 5
}
